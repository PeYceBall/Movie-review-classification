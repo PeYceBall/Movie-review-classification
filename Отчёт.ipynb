{
 "cells": [
  {
   "cell_type": "code",
   "execution_count": null,
   "metadata": {
    "colab": {},
    "colab_type": "code",
    "id": "bxDRhXuYh3uQ"
   },
   "outputs": [],
   "source": [
    "!pip3 install transformers"
   ]
  },
  {
   "cell_type": "code",
   "execution_count": 2,
   "metadata": {
    "colab": {
     "base_uri": "https://localhost:8080/",
     "height": 70
    },
    "colab_type": "code",
    "id": "wpVFEXme_WKH",
    "outputId": "1084bee3-ab43-4e7e-b70e-efb51c423512"
   },
   "outputs": [
    {
     "name": "stderr",
     "output_type": "stream",
     "text": [
      "/usr/local/lib/python3.6/dist-packages/statsmodels/tools/_testing.py:19: FutureWarning: pandas.util.testing is deprecated. Use the functions in the public API at pandas.testing instead.\n",
      "  import pandas.util.testing as tm\n"
     ]
    }
   ],
   "source": [
    "import numpy as np\n",
    "import pandas as pd\n",
    "import scipy.stats as sps\n",
    "import matplotlib.pyplot as plt\n",
    "%matplotlib inline\n",
    "import seaborn as sns\n",
    "sns.set(style='darkgrid', font_scale=1.3)\n",
    "from tqdm.notebook import tqdm\n",
    "\n",
    "from sklearn.naive_bayes import MultinomialNB\n",
    "from sklearn.pipeline import Pipeline\n",
    "from sklearn.feature_extraction.text import TfidfTransformer\n",
    "from sklearn.feature_extraction.text import CountVectorizer, TfidfVectorizer\n",
    "from sklearn.metrics import accuracy_score, f1_score, roc_auc_score\n",
    "\n",
    "import torch\n",
    "import torch.nn as nn\n",
    "import torch.nn.functional as F\n",
    "from torchsummary import summary\n",
    "from torch.utils.data import TensorDataset, random_split, DataLoader\n",
    "\n",
    "from torchtext.data import Field, LabelField, Dataset, Example, TabularDataset\n",
    "from torchtext.data import BucketIterator\n",
    "\n",
    "import os\n",
    "import time\n",
    "import random\n",
    "import re\n",
    "\n",
    "from transformers import BertTokenizer, BertForSequenceClassification\n",
    "\n",
    "from collections import defaultdict\n",
    "from IPython.display import clear_output"
   ]
  },
  {
   "cell_type": "code",
   "execution_count": null,
   "metadata": {
    "colab": {
     "base_uri": "https://localhost:8080/",
     "height": 34
    },
    "colab_type": "code",
    "id": "YgEOodxmCN3E",
    "outputId": "3d94b4c2-ec4d-49d0-e64c-1eba26028f69"
   },
   "outputs": [
    {
     "name": "stdout",
     "output_type": "stream",
     "text": [
      "cuda\n"
     ]
    }
   ],
   "source": [
    "device = 'cuda' if torch.cuda.is_available() else 'cpu'\n",
    "DEBUG = False\n",
    "\n",
    "SEED = 42\n",
    "\n",
    "def seed_everything(seed):\n",
    "    random.seed(seed)\n",
    "    os.environ['PYTHONHASHSEED'] = str(seed)\n",
    "    np.random.seed(seed)\n",
    "    torch.manual_seed(seed)\n",
    "    torch.cuda.manual_seed(seed)\n",
    "    torch.backends.cudnn.deterministic = True\n",
    "    torch.backends.cudnn.benchmark = True\n",
    "\n",
    "seed_everything(SEED)\n",
    "\n",
    "print(device)"
   ]
  },
  {
   "cell_type": "markdown",
   "metadata": {
    "colab_type": "text",
    "id": "bjWdKzpukvho"
   },
   "source": [
    "По условию, необходимо как предсказывать тип комментария(позитивный или негативный), так и оценку фильма автором этого комментария. Можно выделить следующие подходы к решению задачи:\n",
    "\n",
    "1. Предсказываем вероятность того, что комментарий положительный. Лосс -- BCEWithLogits. Метрики -- любые для бинарной классификации: accuracy, precision, recall, F1, ROC AUC. Так как в имеющихся данных классы идеально сбалансированы, достаточно смотреть только на accuracy. Далее подбираем рейтинг комментария по вероятности того, что он позитивный.\n",
    "\n",
    "2. Предсказываем рейтинг, а потом по рейтингу определяем тип комментария. Проблема этого подхода заключается в том, что в датасете отсутствуют комментарии с рейтингом 5 или 6, поэтому эти рейтинги никогда не будут предсказываться без дополнительных ухищрений. Лосс - кросс-энтропия, метрики -- accuracy или макро-усреднение метрик бинарной классификации.\n",
    "\n",
    "3. Третий подход заключается в объединении первых двух при помощи multi-task модели, то есть на каждую из задач будет выделена отдельная голова. Этот подход сохраняет недостатки второго подхода, а также возможна ситуация, при которой предсказанные рейтинг и класс комментария будут противоречить друг другу.\n",
    "\n",
    "Остановимся на первом подходе. Для начала прочитаем данные и выполним предобработку. "
   ]
  },
  {
   "cell_type": "code",
   "execution_count": null,
   "metadata": {
    "colab": {},
    "colab_type": "code",
    "id": "_nkyrph-nTZG"
   },
   "outputs": [],
   "source": [
    "!cp /content/drive/'My Drive'/'Colab Data'/Гринатом/aclImdb_v1.tar.gz .\n",
    "!tar -xf aclImdb_v1.tar.gz"
   ]
  },
  {
   "cell_type": "code",
   "execution_count": null,
   "metadata": {
    "colab": {},
    "colab_type": "code",
    "id": "642gT9PmqS3I"
   },
   "outputs": [],
   "source": [
    "def read_data(path):\n",
    "    texts = []\n",
    "    labels = []\n",
    "    for dir, label in zip(['pos', 'neg'], [1, 0]):\n",
    "        dir_path = os.path.join(path, dir)\n",
    "        files = os.listdir(dir_path)\n",
    "        for file in files:\n",
    "            with open(os.path.join(dir_path, file)) as f:\n",
    "                text = f.read()\n",
    "                texts.append(text)\n",
    "                labels.append(label)\n",
    "\n",
    "    df = pd.DataFrame({'text': texts, 'label': labels})\n",
    "    return df"
   ]
  },
  {
   "cell_type": "code",
   "execution_count": null,
   "metadata": {
    "colab": {
     "base_uri": "https://localhost:8080/",
     "height": 402
    },
    "colab_type": "code",
    "id": "Dni-eM6XEytn",
    "outputId": "c761acdc-b1a5-49d7-d746-5d80953426c0"
   },
   "outputs": [
    {
     "data": {
      "text/html": [
       "<div>\n",
       "<style scoped>\n",
       "    .dataframe tbody tr th:only-of-type {\n",
       "        vertical-align: middle;\n",
       "    }\n",
       "\n",
       "    .dataframe tbody tr th {\n",
       "        vertical-align: top;\n",
       "    }\n",
       "\n",
       "    .dataframe thead th {\n",
       "        text-align: right;\n",
       "    }\n",
       "</style>\n",
       "<table border=\"1\" class=\"dataframe\">\n",
       "  <thead>\n",
       "    <tr style=\"text-align: right;\">\n",
       "      <th></th>\n",
       "      <th>text</th>\n",
       "      <th>label</th>\n",
       "    </tr>\n",
       "  </thead>\n",
       "  <tbody>\n",
       "    <tr>\n",
       "      <th>0</th>\n",
       "      <td>My friend and I picked \"Paperhouse\" out of a r...</td>\n",
       "      <td>1</td>\n",
       "    </tr>\n",
       "    <tr>\n",
       "      <th>1</th>\n",
       "      <td>Rented and watched this short (&lt; 90 minutes) w...</td>\n",
       "      <td>1</td>\n",
       "    </tr>\n",
       "    <tr>\n",
       "      <th>2</th>\n",
       "      <td>This film has great acting, great photography ...</td>\n",
       "      <td>1</td>\n",
       "    </tr>\n",
       "    <tr>\n",
       "      <th>3</th>\n",
       "      <td>I remember this movie. Quite intense for an 11...</td>\n",
       "      <td>1</td>\n",
       "    </tr>\n",
       "    <tr>\n",
       "      <th>4</th>\n",
       "      <td>It's difficult to not have a liking for Israel...</td>\n",
       "      <td>1</td>\n",
       "    </tr>\n",
       "    <tr>\n",
       "      <th>...</th>\n",
       "      <td>...</td>\n",
       "      <td>...</td>\n",
       "    </tr>\n",
       "    <tr>\n",
       "      <th>24995</th>\n",
       "      <td>Much of \"Over Her Dead Body\" is so painfully u...</td>\n",
       "      <td>0</td>\n",
       "    </tr>\n",
       "    <tr>\n",
       "      <th>24996</th>\n",
       "      <td>Okay, let me start off by saying that nothing ...</td>\n",
       "      <td>0</td>\n",
       "    </tr>\n",
       "    <tr>\n",
       "      <th>24997</th>\n",
       "      <td>SPOILER ALERT In this generic and forgettable ...</td>\n",
       "      <td>0</td>\n",
       "    </tr>\n",
       "    <tr>\n",
       "      <th>24998</th>\n",
       "      <td>If anybody really wants to understand Hitler, ...</td>\n",
       "      <td>0</td>\n",
       "    </tr>\n",
       "    <tr>\n",
       "      <th>24999</th>\n",
       "      <td>Hubert Selby Jr. gave us the book \"Requiem For...</td>\n",
       "      <td>0</td>\n",
       "    </tr>\n",
       "  </tbody>\n",
       "</table>\n",
       "<p>25000 rows × 2 columns</p>\n",
       "</div>"
      ],
      "text/plain": [
       "                                                    text  label\n",
       "0      My friend and I picked \"Paperhouse\" out of a r...      1\n",
       "1      Rented and watched this short (< 90 minutes) w...      1\n",
       "2      This film has great acting, great photography ...      1\n",
       "3      I remember this movie. Quite intense for an 11...      1\n",
       "4      It's difficult to not have a liking for Israel...      1\n",
       "...                                                  ...    ...\n",
       "24995  Much of \"Over Her Dead Body\" is so painfully u...      0\n",
       "24996  Okay, let me start off by saying that nothing ...      0\n",
       "24997  SPOILER ALERT In this generic and forgettable ...      0\n",
       "24998  If anybody really wants to understand Hitler, ...      0\n",
       "24999  Hubert Selby Jr. gave us the book \"Requiem For...      0\n",
       "\n",
       "[25000 rows x 2 columns]"
      ]
     },
     "execution_count": 6,
     "metadata": {
      "tags": []
     },
     "output_type": "execute_result"
    }
   ],
   "source": [
    "train = read_data('aclImdb/train')\n",
    "train"
   ]
  },
  {
   "cell_type": "code",
   "execution_count": null,
   "metadata": {
    "colab": {
     "base_uri": "https://localhost:8080/",
     "height": 402
    },
    "colab_type": "code",
    "id": "gzg4b6AOE9Me",
    "outputId": "a30e808b-bc39-4f33-c723-6d40ac65ffdb"
   },
   "outputs": [
    {
     "data": {
      "text/html": [
       "<div>\n",
       "<style scoped>\n",
       "    .dataframe tbody tr th:only-of-type {\n",
       "        vertical-align: middle;\n",
       "    }\n",
       "\n",
       "    .dataframe tbody tr th {\n",
       "        vertical-align: top;\n",
       "    }\n",
       "\n",
       "    .dataframe thead th {\n",
       "        text-align: right;\n",
       "    }\n",
       "</style>\n",
       "<table border=\"1\" class=\"dataframe\">\n",
       "  <thead>\n",
       "    <tr style=\"text-align: right;\">\n",
       "      <th></th>\n",
       "      <th>text</th>\n",
       "      <th>label</th>\n",
       "    </tr>\n",
       "  </thead>\n",
       "  <tbody>\n",
       "    <tr>\n",
       "      <th>0</th>\n",
       "      <td>I just saw \"Eagle´s wing\". I do not really kno...</td>\n",
       "      <td>1</td>\n",
       "    </tr>\n",
       "    <tr>\n",
       "      <th>1</th>\n",
       "      <td>I remember seeing this film in the theater in ...</td>\n",
       "      <td>1</td>\n",
       "    </tr>\n",
       "    <tr>\n",
       "      <th>2</th>\n",
       "      <td>Fascinating and amusingly bad, Lights of New Y...</td>\n",
       "      <td>1</td>\n",
       "    </tr>\n",
       "    <tr>\n",
       "      <th>3</th>\n",
       "      <td>I have to say that some of the other reviews o...</td>\n",
       "      <td>1</td>\n",
       "    </tr>\n",
       "    <tr>\n",
       "      <th>4</th>\n",
       "      <td>A clever and bizarre angle to \"Beauty is in th...</td>\n",
       "      <td>1</td>\n",
       "    </tr>\n",
       "    <tr>\n",
       "      <th>...</th>\n",
       "      <td>...</td>\n",
       "      <td>...</td>\n",
       "    </tr>\n",
       "    <tr>\n",
       "      <th>24995</th>\n",
       "      <td>This is one of those movies where I was rootin...</td>\n",
       "      <td>0</td>\n",
       "    </tr>\n",
       "    <tr>\n",
       "      <th>24996</th>\n",
       "      <td>Pluses: Mary Boland is delightfully on edge as...</td>\n",
       "      <td>0</td>\n",
       "    </tr>\n",
       "    <tr>\n",
       "      <th>24997</th>\n",
       "      <td>no really, im not kidding around here folks, a...</td>\n",
       "      <td>0</td>\n",
       "    </tr>\n",
       "    <tr>\n",
       "      <th>24998</th>\n",
       "      <td>Apart from some quite stunning scenery, this S...</td>\n",
       "      <td>0</td>\n",
       "    </tr>\n",
       "    <tr>\n",
       "      <th>24999</th>\n",
       "      <td>Nice attempt to bring Shakespearian language a...</td>\n",
       "      <td>0</td>\n",
       "    </tr>\n",
       "  </tbody>\n",
       "</table>\n",
       "<p>25000 rows × 2 columns</p>\n",
       "</div>"
      ],
      "text/plain": [
       "                                                    text  label\n",
       "0      I just saw \"Eagle´s wing\". I do not really kno...      1\n",
       "1      I remember seeing this film in the theater in ...      1\n",
       "2      Fascinating and amusingly bad, Lights of New Y...      1\n",
       "3      I have to say that some of the other reviews o...      1\n",
       "4      A clever and bizarre angle to \"Beauty is in th...      1\n",
       "...                                                  ...    ...\n",
       "24995  This is one of those movies where I was rootin...      0\n",
       "24996  Pluses: Mary Boland is delightfully on edge as...      0\n",
       "24997  no really, im not kidding around here folks, a...      0\n",
       "24998  Apart from some quite stunning scenery, this S...      0\n",
       "24999  Nice attempt to bring Shakespearian language a...      0\n",
       "\n",
       "[25000 rows x 2 columns]"
      ]
     },
     "execution_count": 7,
     "metadata": {
      "tags": []
     },
     "output_type": "execute_result"
    }
   ],
   "source": [
    "test = read_data('aclImdb/test')\n",
    "test"
   ]
  },
  {
   "cell_type": "code",
   "execution_count": null,
   "metadata": {
    "colab": {},
    "colab_type": "code",
    "id": "3meKyc49FBUj"
   },
   "outputs": [],
   "source": [
    "REPLACE_BY_SPACE_RE = re.compile('[/(){}\\[\\]\\|@,;:]')\n",
    "BAD_SYMBOLS_RE = re.compile('[^0-9a-z ]')\n",
    "# в отзывах иногда встречаются HTML-теги\n",
    "TAGS_RE = re.compile('<[^<>]+>')\n",
    "\n",
    "\n",
    "def clean_text(text):\n",
    "    text = text.lower()\n",
    "    text = TAGS_RE.sub(' ', text)\n",
    "    text = REPLACE_BY_SPACE_RE.sub(' ', text)\n",
    "    text = BAD_SYMBOLS_RE.sub('', text)\n",
    "    text = re.sub('\\s+', ' ', text) \n",
    "    return text\n",
    "    "
   ]
  },
  {
   "cell_type": "markdown",
   "metadata": {
    "colab_type": "text",
    "id": "iPNP1aUpnxJJ"
   },
   "source": [
    "Пример чистки текста:"
   ]
  },
  {
   "cell_type": "code",
   "execution_count": null,
   "metadata": {
    "colab": {
     "base_uri": "https://localhost:8080/",
     "height": 137
    },
    "colab_type": "code",
    "id": "9cvLGhTrLxfH",
    "outputId": "951869bb-15d4-451e-fc73-118c6c41cade"
   },
   "outputs": [
    {
     "data": {
      "application/vnd.google.colaboratory.intrinsic": {
       "type": "string"
      },
      "text/plain": [
       "'My friend and I picked \"Paperhouse\" out of a random pile of movies on our weekly excursion to the Horror section-- neither of us had heard of it, but the blurb on the box was really promising. And the movie didn\\'t disappoint, though I still probably wouldn\\'t call it a horror movie exclusively.<br /><br />11-year old Anna Madden draws a house, and visits it in her dreams. She is definitely asleep when she\\'s seeing the house, but it\\'s so real in a sense that it\\'s almost like a completely separate reality. Which, in view of later events, doesn\\'t seem like a far cry from the truth. Anyhow, she finds she can add to the house, its contents and its surroundings by simply adding to the picture. <br /><br />While this is going on, Anna is getting increasingly more ill with a fever, and besides that is getting totally obsessed with the house and her drawing. On top of that, she and her mother are also dealing with her absent father; he has a job that takes him away for long stretches, though one gets the impression there\\'s actually more to the story than that.<br /><br />OK, so the drawing stuff sounds nice enough-- but frankly there\\'s something really menacing about it. The dreamworld is eerily surreal -- the house, for instance, is just a grey block in the middle of a desolate field. The folks who made the movie did a great job of making us very uncomfortable with this alternate world/ongoing dream...<br /><br />One of the things Anna adds to the house is a boy, Mark, who seems to be the same patient her doctor keeps talking about (I\\'m not giving that away, you know from the moment he appears that it\\'s the same kid). In reality, Mark can\\'t walk due to an illness; in Anna\\'s drawing-world, he can\\'t walk because she didn\\'t draw him any legs. She blames herself for his real-life illness, and tries to rectify the situation, but... everything starts getting really weird. She even brings her absent father into the drawing, with disastrous results. The bits with the father are really terrifying.<br /><br />I don\\'t want to give anything away, so I\\'ll stop there... There seems to be a lot going on in this film. I\\'m sure you\\'ll have a ball analyzing this thing do death with your pals after you watch it-- Is it a simple a story as it seems, or are there actually layers of meaning? I don\\'t know, but either way it\\'s quite fascinating. There was a \"Nightmare On Elm Street\"-ish quality about it, in that at a certain point reality and dreams intersect. I love things like that.<br /><br />My only complaint is that it feels like it COULD have ended many times, but didn\\'t. I\\'m satisfied with the ending it had (some of you sensitive types might want to have Kleenex handy!), though it really could have a variety of conclusions. Anyway, it doesn\\'t exactly feel drawn out once it\\'s actually over, but while you\\'re watching and it keeps fading back in, it\\'s a little nerve wracking.<br /><br />Still, \"Paperhouse\" is a really GOOD film. It\\'s well done, and acting-- especially Charlotte Burke as Anna-- is top notch. Burke, who has never before or since appeared in a film, is a real gem. I don\\'t know why she never went onto do anything else, but either way she\\'s really convincing and enjoyable to watch.<br /><br />\"Paperhouse\" isn\\'t exactly a horror movie, it\\'s sort of a fantasy/suspense/something else type of movie, with some definite horroresque moments-- but you can still watch it with your family and not be worried that your little brother or grandmother will get grossed out by blood splashing or something.<br /><br />Give it a chance, you won\\'t regret it! And maybe you should read the book, too...'"
      ]
     },
     "execution_count": 9,
     "metadata": {
      "tags": []
     },
     "output_type": "execute_result"
    }
   ],
   "source": [
    "train.text[0]"
   ]
  },
  {
   "cell_type": "code",
   "execution_count": null,
   "metadata": {
    "colab": {
     "base_uri": "https://localhost:8080/",
     "height": 137
    },
    "colab_type": "code",
    "id": "gey508tCL7fL",
    "outputId": "11bdc254-3fe1-4f3f-a450-8a2c40078027"
   },
   "outputs": [
    {
     "data": {
      "application/vnd.google.colaboratory.intrinsic": {
       "type": "string"
      },
      "text/plain": [
       "'my friend and i picked paperhouse out of a random pile of movies on our weekly excursion to the horror section neither of us had heard of it but the blurb on the box was really promising and the movie didnt disappoint though i still probably wouldnt call it a horror movie exclusively 11year old anna madden draws a house and visits it in her dreams she is definitely asleep when shes seeing the house but its so real in a sense that its almost like a completely separate reality which in view of later events doesnt seem like a far cry from the truth anyhow she finds she can add to the house its contents and its surroundings by simply adding to the picture while this is going on anna is getting increasingly more ill with a fever and besides that is getting totally obsessed with the house and her drawing on top of that she and her mother are also dealing with her absent father he has a job that takes him away for long stretches though one gets the impression theres actually more to the story than that ok so the drawing stuff sounds nice enough but frankly theres something really menacing about it the dreamworld is eerily surreal the house for instance is just a grey block in the middle of a desolate field the folks who made the movie did a great job of making us very uncomfortable with this alternate world ongoing dream one of the things anna adds to the house is a boy mark who seems to be the same patient her doctor keeps talking about im not giving that away you know from the moment he appears that its the same kid in reality mark cant walk due to an illness in annas drawingworld he cant walk because she didnt draw him any legs she blames herself for his reallife illness and tries to rectify the situation but everything starts getting really weird she even brings her absent father into the drawing with disastrous results the bits with the father are really terrifying i dont want to give anything away so ill stop there there seems to be a lot going on in this film im sure youll have a ball analyzing this thing do death with your pals after you watch it is it a simple a story as it seems or are there actually layers of meaning i dont know but either way its quite fascinating there was a nightmare on elm streetish quality about it in that at a certain point reality and dreams intersect i love things like that my only complaint is that it feels like it could have ended many times but didnt im satisfied with the ending it had some of you sensitive types might want to have kleenex handy though it really could have a variety of conclusions anyway it doesnt exactly feel drawn out once its actually over but while youre watching and it keeps fading back in its a little nerve wracking still paperhouse is a really good film its well done and acting especially charlotte burke as anna is top notch burke who has never before or since appeared in a film is a real gem i dont know why she never went onto do anything else but either way shes really convincing and enjoyable to watch paperhouse isnt exactly a horror movie its sort of a fantasy suspense something else type of movie with some definite horroresque moments but you can still watch it with your family and not be worried that your little brother or grandmother will get grossed out by blood splashing or something give it a chance you wont regret it and maybe you should read the book too'"
      ]
     },
     "execution_count": 10,
     "metadata": {
      "tags": []
     },
     "output_type": "execute_result"
    }
   ],
   "source": [
    "clean_text(train.text[0])"
   ]
  },
  {
   "cell_type": "code",
   "execution_count": null,
   "metadata": {
    "colab": {
     "base_uri": "https://localhost:8080/",
     "height": 402
    },
    "colab_type": "code",
    "id": "97PUeiv_MBg_",
    "outputId": "6eda35f5-fee8-4f0a-a224-574f8bf5b4fb"
   },
   "outputs": [
    {
     "data": {
      "text/html": [
       "<div>\n",
       "<style scoped>\n",
       "    .dataframe tbody tr th:only-of-type {\n",
       "        vertical-align: middle;\n",
       "    }\n",
       "\n",
       "    .dataframe tbody tr th {\n",
       "        vertical-align: top;\n",
       "    }\n",
       "\n",
       "    .dataframe thead th {\n",
       "        text-align: right;\n",
       "    }\n",
       "</style>\n",
       "<table border=\"1\" class=\"dataframe\">\n",
       "  <thead>\n",
       "    <tr style=\"text-align: right;\">\n",
       "      <th></th>\n",
       "      <th>text</th>\n",
       "      <th>label</th>\n",
       "    </tr>\n",
       "  </thead>\n",
       "  <tbody>\n",
       "    <tr>\n",
       "      <th>0</th>\n",
       "      <td>my friend and i picked paperhouse out of a ran...</td>\n",
       "      <td>1</td>\n",
       "    </tr>\n",
       "    <tr>\n",
       "      <th>1</th>\n",
       "      <td>rented and watched this short 90 minutes work ...</td>\n",
       "      <td>1</td>\n",
       "    </tr>\n",
       "    <tr>\n",
       "      <th>2</th>\n",
       "      <td>this film has great acting great photography a...</td>\n",
       "      <td>1</td>\n",
       "    </tr>\n",
       "    <tr>\n",
       "      <th>3</th>\n",
       "      <td>i remember this movie quite intense for an 11 ...</td>\n",
       "      <td>1</td>\n",
       "    </tr>\n",
       "    <tr>\n",
       "      <th>4</th>\n",
       "      <td>its difficult to not have a liking for israeli...</td>\n",
       "      <td>1</td>\n",
       "    </tr>\n",
       "    <tr>\n",
       "      <th>...</th>\n",
       "      <td>...</td>\n",
       "      <td>...</td>\n",
       "    </tr>\n",
       "    <tr>\n",
       "      <th>24995</th>\n",
       "      <td>much of over her dead body is so painfully unf...</td>\n",
       "      <td>0</td>\n",
       "    </tr>\n",
       "    <tr>\n",
       "      <th>24996</th>\n",
       "      <td>okay let me start off by saying that nothing i...</td>\n",
       "      <td>0</td>\n",
       "    </tr>\n",
       "    <tr>\n",
       "      <th>24997</th>\n",
       "      <td>spoiler alert in this generic and forgettable ...</td>\n",
       "      <td>0</td>\n",
       "    </tr>\n",
       "    <tr>\n",
       "      <th>24998</th>\n",
       "      <td>if anybody really wants to understand hitler r...</td>\n",
       "      <td>0</td>\n",
       "    </tr>\n",
       "    <tr>\n",
       "      <th>24999</th>\n",
       "      <td>hubert selby jr gave us the book requiem for a...</td>\n",
       "      <td>0</td>\n",
       "    </tr>\n",
       "  </tbody>\n",
       "</table>\n",
       "<p>25000 rows × 2 columns</p>\n",
       "</div>"
      ],
      "text/plain": [
       "                                                    text  label\n",
       "0      my friend and i picked paperhouse out of a ran...      1\n",
       "1      rented and watched this short 90 minutes work ...      1\n",
       "2      this film has great acting great photography a...      1\n",
       "3      i remember this movie quite intense for an 11 ...      1\n",
       "4      its difficult to not have a liking for israeli...      1\n",
       "...                                                  ...    ...\n",
       "24995  much of over her dead body is so painfully unf...      0\n",
       "24996  okay let me start off by saying that nothing i...      0\n",
       "24997  spoiler alert in this generic and forgettable ...      0\n",
       "24998  if anybody really wants to understand hitler r...      0\n",
       "24999  hubert selby jr gave us the book requiem for a...      0\n",
       "\n",
       "[25000 rows x 2 columns]"
      ]
     },
     "execution_count": 11,
     "metadata": {
      "tags": []
     },
     "output_type": "execute_result"
    }
   ],
   "source": [
    "train['text'] = train['text'].apply(clean_text)\n",
    "train"
   ]
  },
  {
   "cell_type": "code",
   "execution_count": null,
   "metadata": {
    "colab": {
     "base_uri": "https://localhost:8080/",
     "height": 402
    },
    "colab_type": "code",
    "id": "D3twq2UEsB6H",
    "outputId": "4c4f97fe-95f1-4216-ef47-a36f437828cb"
   },
   "outputs": [
    {
     "data": {
      "text/html": [
       "<div>\n",
       "<style scoped>\n",
       "    .dataframe tbody tr th:only-of-type {\n",
       "        vertical-align: middle;\n",
       "    }\n",
       "\n",
       "    .dataframe tbody tr th {\n",
       "        vertical-align: top;\n",
       "    }\n",
       "\n",
       "    .dataframe thead th {\n",
       "        text-align: right;\n",
       "    }\n",
       "</style>\n",
       "<table border=\"1\" class=\"dataframe\">\n",
       "  <thead>\n",
       "    <tr style=\"text-align: right;\">\n",
       "      <th></th>\n",
       "      <th>text</th>\n",
       "      <th>label</th>\n",
       "    </tr>\n",
       "  </thead>\n",
       "  <tbody>\n",
       "    <tr>\n",
       "      <th>0</th>\n",
       "      <td>i just saw eagles wing i do not really know wh...</td>\n",
       "      <td>1</td>\n",
       "    </tr>\n",
       "    <tr>\n",
       "      <th>1</th>\n",
       "      <td>i remember seeing this film in the theater in ...</td>\n",
       "      <td>1</td>\n",
       "    </tr>\n",
       "    <tr>\n",
       "      <th>2</th>\n",
       "      <td>fascinating and amusingly bad lights of new yo...</td>\n",
       "      <td>1</td>\n",
       "    </tr>\n",
       "    <tr>\n",
       "      <th>3</th>\n",
       "      <td>i have to say that some of the other reviews o...</td>\n",
       "      <td>1</td>\n",
       "    </tr>\n",
       "    <tr>\n",
       "      <th>4</th>\n",
       "      <td>a clever and bizarre angle to beauty is in the...</td>\n",
       "      <td>1</td>\n",
       "    </tr>\n",
       "    <tr>\n",
       "      <th>...</th>\n",
       "      <td>...</td>\n",
       "      <td>...</td>\n",
       "    </tr>\n",
       "    <tr>\n",
       "      <th>24995</th>\n",
       "      <td>this is one of those movies where i was rootin...</td>\n",
       "      <td>0</td>\n",
       "    </tr>\n",
       "    <tr>\n",
       "      <th>24996</th>\n",
       "      <td>pluses mary boland is delightfully on edge as ...</td>\n",
       "      <td>0</td>\n",
       "    </tr>\n",
       "    <tr>\n",
       "      <th>24997</th>\n",
       "      <td>no really im not kidding around here folks and...</td>\n",
       "      <td>0</td>\n",
       "    </tr>\n",
       "    <tr>\n",
       "      <th>24998</th>\n",
       "      <td>apart from some quite stunning scenery this st...</td>\n",
       "      <td>0</td>\n",
       "    </tr>\n",
       "    <tr>\n",
       "      <th>24999</th>\n",
       "      <td>nice attempt to bring shakespearian language a...</td>\n",
       "      <td>0</td>\n",
       "    </tr>\n",
       "  </tbody>\n",
       "</table>\n",
       "<p>25000 rows × 2 columns</p>\n",
       "</div>"
      ],
      "text/plain": [
       "                                                    text  label\n",
       "0      i just saw eagles wing i do not really know wh...      1\n",
       "1      i remember seeing this film in the theater in ...      1\n",
       "2      fascinating and amusingly bad lights of new yo...      1\n",
       "3      i have to say that some of the other reviews o...      1\n",
       "4      a clever and bizarre angle to beauty is in the...      1\n",
       "...                                                  ...    ...\n",
       "24995  this is one of those movies where i was rootin...      0\n",
       "24996  pluses mary boland is delightfully on edge as ...      0\n",
       "24997  no really im not kidding around here folks and...      0\n",
       "24998  apart from some quite stunning scenery this st...      0\n",
       "24999  nice attempt to bring shakespearian language a...      0\n",
       "\n",
       "[25000 rows x 2 columns]"
      ]
     },
     "execution_count": 12,
     "metadata": {
      "tags": []
     },
     "output_type": "execute_result"
    }
   ],
   "source": [
    "test['text'] = test['text'].apply(clean_text)\n",
    "test"
   ]
  },
  {
   "cell_type": "markdown",
   "metadata": {
    "colab_type": "text",
    "id": "DN2ocmDrn2rl"
   },
   "source": [
    "Начнём с бейзлайна: будем получать эмбеддинги комментариев с помощью TF-IDF, а затем применять к ним модель Naive Bayes."
   ]
  },
  {
   "cell_type": "markdown",
   "metadata": {
    "colab_type": "text",
    "id": "rB55od8VJZJ8"
   },
   "source": [
    "### Бейзлайн: tf-idf + Naive Bayes"
   ]
  },
  {
   "cell_type": "code",
   "execution_count": null,
   "metadata": {
    "colab": {
     "base_uri": "https://localhost:8080/",
     "height": 67
    },
    "colab_type": "code",
    "id": "3DzAfuM1Mind",
    "outputId": "58f89fb8-49d4-4aa0-a1ba-015b19489361"
   },
   "outputs": [
    {
     "name": "stdout",
     "output_type": "stream",
     "text": [
      "accuracy 0.83064\n",
      "CPU times: user 8.25 s, sys: 151 ms, total: 8.4 s\n",
      "Wall time: 8.44 s\n"
     ]
    }
   ],
   "source": [
    "%%time\n",
    "nb = Pipeline([('vect', CountVectorizer()),\n",
    "               ('tfidf', TfidfTransformer()),\n",
    "               ('clf', MultinomialNB()),\n",
    "              ])\n",
    "nb.fit(train['text'], train['label'])\n",
    "\n",
    "y_pred = nb.predict(test['text'])\n",
    "\n",
    "print('accuracy %s' % accuracy_score(y_pred, test['label']))"
   ]
  },
  {
   "cell_type": "markdown",
   "metadata": {
    "colab_type": "text",
    "id": "h8HC9sIwoJ8Z"
   },
   "source": [
    "Как видно, такая модель очень быстро обучается и работает, а также показывает не самое плохое качество.\n",
    "\n",
    "Следующим шагом будет модель, получающая эмбеддинги слов с помощью специального слоя(nn.Embedding), а затем передающая их в RNN. Предположительно, такая модель не будет показывать слишком хорошие результаты из-за того, что эмбеддинги учатся с нуля, а в трейне всего $20 000$ текстов($5000$ отберём для валидации). Этот недостаток можно было бы смягчить, если использовать неразмеченные данные для обучения эмбеддингов, или же использовать метод, описанный в рекомендованной статье. Также неплохим вариантом кажется взять предобученные эмбеддинги.\n",
    "\n",
    "Для удобства, используем здесь даталоадер из `torchtext`, который автоматически сгруппирует в батчи тексты одинаковой длины. "
   ]
  },
  {
   "cell_type": "markdown",
   "metadata": {
    "colab_type": "text",
    "id": "vg-ITAWcEppb"
   },
   "source": [
    "### RNN"
   ]
  },
  {
   "cell_type": "markdown",
   "metadata": {
    "colab_type": "text",
    "id": "7UOddHJXFmjZ"
   },
   "source": [
    "Посмотрим на распределение длин комментариев."
   ]
  },
  {
   "cell_type": "code",
   "execution_count": null,
   "metadata": {
    "colab": {
     "base_uri": "https://localhost:8080/",
     "height": 418
    },
    "colab_type": "code",
    "id": "W46uMrravdq3",
    "outputId": "c6548160-c13d-4343-b021-e7edebdb716c"
   },
   "outputs": [
    {
     "data": {
      "image/png": "[encoded data removed]",
      "text/plain": [
       "<Figure size 864x432 with 1 Axes>"
      ]
     },
     "metadata": {
      "tags": []
     },
     "output_type": "display_data"
    }
   ],
   "source": [
    "plt.figure(figsize=(12, 6))\n",
    "plt.hist(train['text'].apply(lambda x: len(x.split(' '))))\n",
    "plt.title('Гистограмма длин комментариев')\n",
    "plt.xlabel('количество слов')\n",
    "plt.show()"
   ]
  },
  {
   "cell_type": "markdown",
   "metadata": {
    "colab_type": "text",
    "id": "wrjaJ1jFF3MT"
   },
   "source": [
    "Обрежем слишком длинные комментарии. В качестве максимальной длины возьмём $1000$ слов."
   ]
  },
  {
   "cell_type": "code",
   "execution_count": null,
   "metadata": {
    "colab": {},
    "colab_type": "code",
    "id": "3T0RNTcaHICV"
   },
   "outputs": [],
   "source": [
    "def crop_text(text, max_length=1000):\n",
    "    return ' '.join(text.split(' ')[:max_length])"
   ]
  },
  {
   "cell_type": "code",
   "execution_count": null,
   "metadata": {
    "colab": {},
    "colab_type": "code",
    "id": "YzZbzMm2FbmS"
   },
   "outputs": [],
   "source": [
    "train['text'] = train['text'].apply(crop_text)\n",
    "test['text'] = test['text'].apply(crop_text)"
   ]
  },
  {
   "cell_type": "code",
   "execution_count": null,
   "metadata": {
    "colab": {
     "base_uri": "https://localhost:8080/",
     "height": 419
    },
    "colab_type": "code",
    "id": "DR1GXRnpHjFk",
    "outputId": "a8843e95-ebee-4b6e-addd-0208175c7a17"
   },
   "outputs": [
    {
     "data": {
      "image/png": "[encoded data removed]",
      "text/plain": [
       "<Figure size 864x432 with 1 Axes>"
      ]
     },
     "metadata": {
      "tags": []
     },
     "output_type": "display_data"
    }
   ],
   "source": [
    "plt.figure(figsize=(12, 6))\n",
    "plt.hist(train['text'].apply(lambda x: len(x.split(' '))))\n",
    "plt.title('Гистограмма длин комментариев после обрезания')\n",
    "plt.xlabel('количество слов')\n",
    "plt.show()"
   ]
  },
  {
   "cell_type": "code",
   "execution_count": null,
   "metadata": {
    "colab": {},
    "colab_type": "code",
    "id": "iyItRiFuHlnf"
   },
   "outputs": [],
   "source": [
    "TEXT = Field(sequential=True, lower=True)\n",
    "LABEL = LabelField()"
   ]
  },
  {
   "cell_type": "code",
   "execution_count": null,
   "metadata": {
    "colab": {},
    "colab_type": "code",
    "id": "cykQbQhrMZqp"
   },
   "outputs": [],
   "source": [
    "train.to_csv('train.csv', index=False)\n",
    "test.to_csv('test.csv', index=False)"
   ]
  },
  {
   "cell_type": "code",
   "execution_count": null,
   "metadata": {
    "colab": {},
    "colab_type": "code",
    "id": "sFs7BdBxL3Bk"
   },
   "outputs": [],
   "source": [
    "train_dataset = TabularDataset('train.csv', 'csv', \n",
    "                               [('text', TEXT),\n",
    "                                ('label', LABEL)], skip_header=True)\n",
    "tst = TabularDataset('test.csv', 'csv', \n",
    "                               [('text', TEXT),\n",
    "                                ('label', LABEL)], skip_header=True)"
   ]
  },
  {
   "cell_type": "code",
   "execution_count": null,
   "metadata": {
    "colab": {},
    "colab_type": "code",
    "id": "dUDY-j0xRKpD"
   },
   "outputs": [],
   "source": [
    "trn, vld = train_dataset.split(0.8)"
   ]
  },
  {
   "cell_type": "code",
   "execution_count": null,
   "metadata": {
    "colab": {},
    "colab_type": "code",
    "id": "Elt16PS2UnLZ"
   },
   "outputs": [],
   "source": [
    "TEXT.build_vocab(trn)\n",
    "LABEL.build_vocab(trn)"
   ]
  },
  {
   "cell_type": "code",
   "execution_count": null,
   "metadata": {
    "colab": {},
    "colab_type": "code",
    "id": "mEXx2SnMT9Ol"
   },
   "outputs": [],
   "source": [
    "train_iter, val_iter, test_iter = BucketIterator.splits(\n",
    "        (trn, vld, tst),\n",
    "        batch_sizes=(64, 64, 64),\n",
    "        sort=True,\n",
    "        sort_key=lambda x: len(x.text),\n",
    "        sort_within_batch=False,\n",
    "        device=device,\n",
    "        repeat=False\n",
    ")"
   ]
  },
  {
   "cell_type": "code",
   "execution_count": null,
   "metadata": {
    "colab": {},
    "colab_type": "code",
    "id": "TVmPgw3lVdqx"
   },
   "outputs": [],
   "source": [
    "def plot_learning_curves(history):\n",
    "    '''\n",
    "    Функция для обучения модели и вывода лосса и метрики во время обучения.\n",
    "\n",
    "    :param history: (dict)\n",
    "        accuracy и loss на обучении и валидации\n",
    "    '''\n",
    "    # sns.set_style(style='whitegrid')\n",
    "    fig = plt.figure(figsize=(20, 7))\n",
    "\n",
    "    plt.subplot(1,2,1)\n",
    "    plt.title('Лосс', fontsize=15)\n",
    "    plt.plot(history['loss']['train'], label='train')\n",
    "    plt.plot(history['loss']['val'], label='val')\n",
    "    plt.xlabel('эпоха', fontsize=15)\n",
    "    plt.legend()\n",
    "\n",
    "    plt.subplot(1,2,2)\n",
    "    plt.title('Accuracy', fontsize=15)\n",
    "    plt.plot(history['acc']['train'], label='train')\n",
    "    plt.plot(history['acc']['val'], label='val')\n",
    "    plt.xlabel('эпоха', fontsize=15)\n",
    "    plt.legend()\n",
    "    plt.show()"
   ]
  },
  {
   "cell_type": "code",
   "execution_count": null,
   "metadata": {
    "colab": {},
    "colab_type": "code",
    "id": "sR01SGK0W7kG"
   },
   "outputs": [],
   "source": [
    "def train_loop(\n",
    "    model, \n",
    "    criterion,\n",
    "    optimizer, \n",
    "    train_batch_gen,\n",
    "    val_batch_gen,\n",
    "    num_epochs=50,\n",
    "    early_stopping=10,\n",
    "    path_save=None,\n",
    "    scheduler=None,\n",
    "    history=None,\n",
    "):\n",
    "    '''\n",
    "    Функция для обучения модели и вывода лосса и метрики во время обучения.\n",
    "\n",
    "    :param model: обучаемая модель\n",
    "    :param criterion: функция потерь\n",
    "    :param optimizer: метод оптимизации\n",
    "    :param train_batch_gen: генератор батчей для обучения\n",
    "    :param val_batch_gen: генератор батчей для валидации\n",
    "    :param num_epochs: количество эпох\n",
    "    :param early_stopping: ранняя остановка после стольких эпох без улучшений\n",
    "    :param path_save: путь для сохранения модели с лучшим скором на валидации\n",
    "    :param scheduler: learning rate scheduler\n",
    "    :param history: предыдущая история обучения\n",
    "\n",
    "    :return: обученная модель\n",
    "    :return: (dict) accuracy и loss на обучении и валидации (\"история\" обучения)\n",
    "    '''\n",
    "\n",
    "    if history is None:\n",
    "        history = defaultdict(lambda: defaultdict(list))\n",
    "\n",
    "    best_val_acc = 0\n",
    "    no_improvements = 0\n",
    "\n",
    "    for epoch in range(num_epochs):\n",
    "        train_loss = 0\n",
    "        train_acc = 0\n",
    "        val_loss = 0\n",
    "        val_acc = 0\n",
    "        \n",
    "        start_time = time.time()\n",
    "\n",
    "        model.train() \n",
    "\n",
    "        for batch in train_batch_gen:\n",
    "            X_batch = batch.text\n",
    "            y_batch = batch.label\n",
    "\n",
    "            X_batch = X_batch.to(device)\n",
    "            y_batch = y_batch.to(device)\n",
    "            \n",
    "            logits = model(X_batch)\n",
    "            loss = criterion(logits, y_batch.float().to(device))\n",
    "\n",
    "            loss.backward()\n",
    "            optimizer.step()\n",
    "            optimizer.zero_grad()\n",
    "            \n",
    "            train_loss += np.sum(loss.detach().cpu().numpy())\n",
    "            y_pred = (logits >= 0.5).detach().cpu().numpy()\n",
    "            train_acc += np.mean(y_batch.cpu().numpy() == y_pred)\n",
    "\n",
    "        train_loss /= len(train_batch_gen)\n",
    "        train_acc /= len(train_batch_gen) \n",
    "        history['loss']['train'].append(train_loss)\n",
    "        history['acc']['train'].append(train_acc)\n",
    "    \n",
    "        model.eval() \n",
    "\n",
    "        for batch in val_batch_gen:\n",
    "            X_batch = batch.text\n",
    "            y_batch = batch.label\n",
    "            \n",
    "            X_batch = X_batch.to(device)\n",
    "            y_batch = y_batch.to(device)\n",
    "            \n",
    "            \n",
    "            logits = model(X_batch)\n",
    "            loss = criterion(logits, y_batch.float().to(device))\n",
    "            val_loss += np.sum(loss.detach().cpu().numpy())\n",
    "            y_pred = (logits >= 0.5).detach().cpu().numpy()\n",
    "            val_acc += np.mean(y_batch.cpu().numpy() == y_pred)\n",
    "\n",
    "        val_loss /= len(val_batch_gen)\n",
    "        val_acc /= len(val_batch_gen) \n",
    "        history['loss']['val'].append(val_loss)\n",
    "        history['acc']['val'].append(val_acc)\n",
    "        if val_acc > best_val_acc:\n",
    "            best_val_acc = 0\n",
    "            no_improvements = 0\n",
    "            if path_save is not None:\n",
    "                torch.save(model, path_save)\n",
    "        else:\n",
    "            no_improvements += 1\n",
    "        \n",
    "        if scheduler is not None:\n",
    "            scheduler.step()\n",
    "\n",
    "        clear_output()\n",
    "\n",
    "        print(\"Epoch {} of {} took {:.3f}s\".format(\n",
    "            epoch + 1, num_epochs, time.time() - start_time))\n",
    "        print(\"  training loss (in-iteration): \\t{:.6f}\".format(train_loss))\n",
    "        print(\"  validation loss (in-iteration): \\t{:.6f}\".format(val_loss))\n",
    "        print(\"  training accuracy: \\t\\t\\t{:.2f} %\".format(train_acc * 100))\n",
    "        print(\"  validation accuracy: \\t\\t\\t{:.2f} %\".format(val_acc * 100))\n",
    "        \n",
    "        plot_learning_curves(history)\n",
    "        if no_improvements >= early_stopping:\n",
    "            print(f'Early stopping after {early_stopping} epochs without progress')\n",
    "            break\n",
    "        \n",
    "    return model, history"
   ]
  },
  {
   "cell_type": "code",
   "execution_count": null,
   "metadata": {
    "colab": {},
    "colab_type": "code",
    "id": "T6SzVP_ahcyj"
   },
   "outputs": [],
   "source": [
    "class BasicRNN(nn.Module):\n",
    "    def __init__(self, vocab_size, emb_dim, hidden_dim, linear_dim):\n",
    "        super().__init__()\n",
    "        self.emb = nn.Embedding(vocab_size, emb_dim)\n",
    "        self.rnn = nn.GRU(emb_dim, hidden_dim, batch_first=True)\n",
    "        self.lin1 = nn.Linear(hidden_dim, linear_dim)\n",
    "        self.relu = nn.ReLU()\n",
    "        self.dropout = nn.Dropout()\n",
    "        self.lin2 = nn.Linear(linear_dim, 1)\n",
    "    \n",
    "    def forward(self, x):\n",
    "        x = x.permute(1, 0)\n",
    "        x = self.emb(x)\n",
    "        x = self.rnn(x)[1]\n",
    "        x = self.relu(self.lin1(x))\n",
    "        x = self.dropout(x)\n",
    "        x = self.lin2(x).reshape(-1)\n",
    "        return x"
   ]
  },
  {
   "cell_type": "code",
   "execution_count": null,
   "metadata": {
    "colab": {},
    "colab_type": "code",
    "id": "eeqyTwGD6nlt"
   },
   "outputs": [],
   "source": [
    "vocab_size = len(TEXT.vocab)\n",
    "emb_dim = 100\n",
    "hidden_dim = 100\n",
    "linear_dim = 50\n",
    "model = BasicRNN(vocab_size, emb_dim, hidden_dim, linear_dim).to(device)"
   ]
  },
  {
   "cell_type": "code",
   "execution_count": null,
   "metadata": {
    "colab": {},
    "colab_type": "code",
    "id": "mja92hwG1UbV"
   },
   "outputs": [],
   "source": [
    "learning_rate = 1e-4\n",
    "num_epochs = 30 \n",
    "optimizer = torch.optim.Adam(model.parameters(), lr=learning_rate)    \n",
    "criterion = nn.BCEWithLogitsLoss()\n",
    "path_save = 'drive/My Drive/Colab Models/Гринатом/basicrnn1.pt'"
   ]
  },
  {
   "cell_type": "code",
   "execution_count": null,
   "metadata": {
    "colab": {
     "base_uri": "https://localhost:8080/",
     "height": 536
    },
    "colab_type": "code",
    "id": "jKUZhDMb8avB",
    "outputId": "2b25cff4-787f-43e5-ae3a-1eff888e8c7f"
   },
   "outputs": [
    {
     "name": "stdout",
     "output_type": "stream",
     "text": [
      "Epoch 30 of 30 took 15.452s\n",
      "  training loss (in-iteration): \t0.081140\n",
      "  validation loss (in-iteration): \t0.584939\n",
      "  training accuracy: \t\t\t97.72 %\n",
      "  validation accuracy: \t\t\t84.69 %\n"
     ]
    },
    {
     "data": {
      "image/png": "[encoded data removed]",
      "text/plain": [
       "<Figure size 1440x504 with 2 Axes>"
      ]
     },
     "metadata": {
      "tags": []
     },
     "output_type": "display_data"
    }
   ],
   "source": [
    "model, history = train_loop(model, criterion, optimizer, train_iter, val_iter,\n",
    "                       num_epochs, path_save=path_save)                 "
   ]
  },
  {
   "cell_type": "code",
   "execution_count": null,
   "metadata": {
    "colab": {},
    "colab_type": "code",
    "id": "AEC4N9UCIJx4"
   },
   "outputs": [],
   "source": [
    "learning_rate = 1e-5\n",
    "num_epochs = 30 \n",
    "optimizer = torch.optim.Adam(model.parameters(), lr=learning_rate)    \n",
    "criterion = nn.BCEWithLogitsLoss()\n",
    "path_save = 'drive/My Drive/Colab Models/Гринатом/basicrnn2.pt'"
   ]
  },
  {
   "cell_type": "code",
   "execution_count": null,
   "metadata": {
    "colab": {
     "base_uri": "https://localhost:8080/",
     "height": 537
    },
    "colab_type": "code",
    "id": "NmfXehArIMfU",
    "outputId": "01c44a05-a4f2-49df-99a4-af1a5ce5cf6c"
   },
   "outputs": [
    {
     "name": "stdout",
     "output_type": "stream",
     "text": [
      "Epoch 30 of 30 took 15.714s\n",
      "  training loss (in-iteration): \t0.042246\n",
      "  validation loss (in-iteration): \t0.629832\n",
      "  training accuracy: \t\t\t99.10 %\n",
      "  validation accuracy: \t\t\t85.13 %\n"
     ]
    },
    {
     "data": {
      "image/png": "[encoded data removed]",
      "text/plain": [
       "<Figure size 1440x504 with 2 Axes>"
      ]
     },
     "metadata": {
      "tags": []
     },
     "output_type": "display_data"
    }
   ],
   "source": [
    "model, history = train_loop(model, criterion, optimizer, train_iter, val_iter,\n",
    "                       num_epochs, path_save=path_save, history=history)                 "
   ]
  },
  {
   "cell_type": "code",
   "execution_count": null,
   "metadata": {
    "colab": {},
    "colab_type": "code",
    "id": "3TwpqWgOKdcb"
   },
   "outputs": [],
   "source": [
    "def score_on_test(model, test_batch_gen):\n",
    "    model.eval()\n",
    "    test_acc = 0\n",
    "    for batch in test_batch_gen:\n",
    "        X_batch = batch.text\n",
    "        y_batch = batch.label\n",
    "        \n",
    "        X_batch = X_batch.to(device)\n",
    "        y_batch = y_batch.to(device)\n",
    "        \n",
    "        logits = model(X_batch)\n",
    "        y_pred = (logits >= 0.5).detach().cpu().numpy()\n",
    "        test_acc += np.mean(y_batch.cpu().numpy() == y_pred)\n",
    "    test_acc /= len(test_batch_gen)\n",
    "    return test_acc"
   ]
  },
  {
   "cell_type": "code",
   "execution_count": null,
   "metadata": {
    "colab": {
     "base_uri": "https://localhost:8080/",
     "height": 34
    },
    "colab_type": "code",
    "id": "dYJ1Yc4DLBA9",
    "outputId": "6e7ea1c0-676d-428e-a108-5570b0b838dd"
   },
   "outputs": [
    {
     "name": "stdout",
     "output_type": "stream",
     "text": [
      "accuracy на тесте: 0.8418\n"
     ]
    }
   ],
   "source": [
    "print('accuracy на тесте:', round(score_on_test(model, test_iter), 4))"
   ]
  },
  {
   "cell_type": "markdown",
   "metadata": {
    "colab_type": "text",
    "id": "4QSaB1Ol0gIr"
   },
   "source": [
    "Удалось немного улучшить качество.\n",
    "\n",
    "Следующим шагом будет применение Transfer Learning: а именно, возьмём предобученный BERT из библиотеки `transformers`, у которого только последний слой для классификации проинициализирован случайно и обучим на наших данных. Веса самой модели будут также разморожены, то есть будет совмещение методов fine-tuning и feature-extractor. \n"
   ]
  },
  {
   "cell_type": "markdown",
   "metadata": {
    "colab_type": "text",
    "id": "ZCwPmbNMbgkw"
   },
   "source": [
    "### BERT"
   ]
  },
  {
   "cell_type": "code",
   "execution_count": null,
   "metadata": {
    "colab": {
     "base_uri": "https://localhost:8080/",
     "height": 402
    },
    "colab_type": "code",
    "id": "Iv3YkXiBQniR",
    "outputId": "41142d49-12ce-414f-f1f5-09eaac89d5b7"
   },
   "outputs": [
    {
     "data": {
      "text/html": [
       "<div>\n",
       "<style scoped>\n",
       "    .dataframe tbody tr th:only-of-type {\n",
       "        vertical-align: middle;\n",
       "    }\n",
       "\n",
       "    .dataframe tbody tr th {\n",
       "        vertical-align: top;\n",
       "    }\n",
       "\n",
       "    .dataframe thead th {\n",
       "        text-align: right;\n",
       "    }\n",
       "</style>\n",
       "<table border=\"1\" class=\"dataframe\">\n",
       "  <thead>\n",
       "    <tr style=\"text-align: right;\">\n",
       "      <th></th>\n",
       "      <th>text</th>\n",
       "      <th>label</th>\n",
       "    </tr>\n",
       "  </thead>\n",
       "  <tbody>\n",
       "    <tr>\n",
       "      <th>0</th>\n",
       "      <td>Here, on IMDb.com I read an opinion, that Grey...</td>\n",
       "      <td>1</td>\n",
       "    </tr>\n",
       "    <tr>\n",
       "      <th>1</th>\n",
       "      <td>This short was nominated for an Academy Award ...</td>\n",
       "      <td>1</td>\n",
       "    </tr>\n",
       "    <tr>\n",
       "      <th>2</th>\n",
       "      <td>As the one-line summary says, two movies have ...</td>\n",
       "      <td>1</td>\n",
       "    </tr>\n",
       "    <tr>\n",
       "      <th>3</th>\n",
       "      <td>The quintessential Georgian film of Georgi Dan...</td>\n",
       "      <td>1</td>\n",
       "    </tr>\n",
       "    <tr>\n",
       "      <th>4</th>\n",
       "      <td>This movie is finally out on DVD in Italy (com...</td>\n",
       "      <td>1</td>\n",
       "    </tr>\n",
       "    <tr>\n",
       "      <th>...</th>\n",
       "      <td>...</td>\n",
       "      <td>...</td>\n",
       "    </tr>\n",
       "    <tr>\n",
       "      <th>24995</th>\n",
       "      <td>I feel like I'm the only kid in town who was a...</td>\n",
       "      <td>0</td>\n",
       "    </tr>\n",
       "    <tr>\n",
       "      <th>24996</th>\n",
       "      <td>this is quite possibly the worst acting i have...</td>\n",
       "      <td>0</td>\n",
       "    </tr>\n",
       "    <tr>\n",
       "      <th>24997</th>\n",
       "      <td>Chesty gringo Telly Savalas (as Frank Cooper) ...</td>\n",
       "      <td>0</td>\n",
       "    </tr>\n",
       "    <tr>\n",
       "      <th>24998</th>\n",
       "      <td>Okay, what the hell kind of TRASH have I been ...</td>\n",
       "      <td>0</td>\n",
       "    </tr>\n",
       "    <tr>\n",
       "      <th>24999</th>\n",
       "      <td>Wow what a great premise for a film : Set it a...</td>\n",
       "      <td>0</td>\n",
       "    </tr>\n",
       "  </tbody>\n",
       "</table>\n",
       "<p>25000 rows × 2 columns</p>\n",
       "</div>"
      ],
      "text/plain": [
       "                                                    text  label\n",
       "0      Here, on IMDb.com I read an opinion, that Grey...      1\n",
       "1      This short was nominated for an Academy Award ...      1\n",
       "2      As the one-line summary says, two movies have ...      1\n",
       "3      The quintessential Georgian film of Georgi Dan...      1\n",
       "4      This movie is finally out on DVD in Italy (com...      1\n",
       "...                                                  ...    ...\n",
       "24995  I feel like I'm the only kid in town who was a...      0\n",
       "24996  this is quite possibly the worst acting i have...      0\n",
       "24997  Chesty gringo Telly Savalas (as Frank Cooper) ...      0\n",
       "24998  Okay, what the hell kind of TRASH have I been ...      0\n",
       "24999  Wow what a great premise for a film : Set it a...      0\n",
       "\n",
       "[25000 rows x 2 columns]"
      ]
     },
     "execution_count": 7,
     "metadata": {
      "tags": []
     },
     "output_type": "execute_result"
    }
   ],
   "source": [
    "train = read_data('aclImdb/train')\n",
    "train"
   ]
  },
  {
   "cell_type": "code",
   "execution_count": null,
   "metadata": {
    "colab": {
     "base_uri": "https://localhost:8080/",
     "height": 402
    },
    "colab_type": "code",
    "id": "IIOrjSkIb6JW",
    "outputId": "51cda9e4-cef2-4144-d8be-3c3ff3d86146"
   },
   "outputs": [
    {
     "data": {
      "text/html": [
       "<div>\n",
       "<style scoped>\n",
       "    .dataframe tbody tr th:only-of-type {\n",
       "        vertical-align: middle;\n",
       "    }\n",
       "\n",
       "    .dataframe tbody tr th {\n",
       "        vertical-align: top;\n",
       "    }\n",
       "\n",
       "    .dataframe thead th {\n",
       "        text-align: right;\n",
       "    }\n",
       "</style>\n",
       "<table border=\"1\" class=\"dataframe\">\n",
       "  <thead>\n",
       "    <tr style=\"text-align: right;\">\n",
       "      <th></th>\n",
       "      <th>text</th>\n",
       "      <th>label</th>\n",
       "    </tr>\n",
       "  </thead>\n",
       "  <tbody>\n",
       "    <tr>\n",
       "      <th>0</th>\n",
       "      <td>To solve a challenging problem, you need to st...</td>\n",
       "      <td>1</td>\n",
       "    </tr>\n",
       "    <tr>\n",
       "      <th>1</th>\n",
       "      <td>Big Fat Liar is a great watch for kids of all ...</td>\n",
       "      <td>1</td>\n",
       "    </tr>\n",
       "    <tr>\n",
       "      <th>2</th>\n",
       "      <td>This 3 hour epic (seems much shorter) explores...</td>\n",
       "      <td>1</td>\n",
       "    </tr>\n",
       "    <tr>\n",
       "      <th>3</th>\n",
       "      <td>I put in the DVD expecting camp perversion fro...</td>\n",
       "      <td>1</td>\n",
       "    </tr>\n",
       "    <tr>\n",
       "      <th>4</th>\n",
       "      <td>I rented this movie for two reasons. The first...</td>\n",
       "      <td>1</td>\n",
       "    </tr>\n",
       "    <tr>\n",
       "      <th>...</th>\n",
       "      <td>...</td>\n",
       "      <td>...</td>\n",
       "    </tr>\n",
       "    <tr>\n",
       "      <th>24995</th>\n",
       "      <td>This movie clearly has an agenda, which could ...</td>\n",
       "      <td>0</td>\n",
       "    </tr>\n",
       "    <tr>\n",
       "      <th>24996</th>\n",
       "      <td>Despite having an absolutely horrid script (mo...</td>\n",
       "      <td>0</td>\n",
       "    </tr>\n",
       "    <tr>\n",
       "      <th>24997</th>\n",
       "      <td>My mother told me not to go to see \"Kadosh\" --...</td>\n",
       "      <td>0</td>\n",
       "    </tr>\n",
       "    <tr>\n",
       "      <th>24998</th>\n",
       "      <td>...now please move on because that's getting o...</td>\n",
       "      <td>0</td>\n",
       "    </tr>\n",
       "    <tr>\n",
       "      <th>24999</th>\n",
       "      <td>I'm not one of those folks who bemoans everyti...</td>\n",
       "      <td>0</td>\n",
       "    </tr>\n",
       "  </tbody>\n",
       "</table>\n",
       "<p>25000 rows × 2 columns</p>\n",
       "</div>"
      ],
      "text/plain": [
       "                                                    text  label\n",
       "0      To solve a challenging problem, you need to st...      1\n",
       "1      Big Fat Liar is a great watch for kids of all ...      1\n",
       "2      This 3 hour epic (seems much shorter) explores...      1\n",
       "3      I put in the DVD expecting camp perversion fro...      1\n",
       "4      I rented this movie for two reasons. The first...      1\n",
       "...                                                  ...    ...\n",
       "24995  This movie clearly has an agenda, which could ...      0\n",
       "24996  Despite having an absolutely horrid script (mo...      0\n",
       "24997  My mother told me not to go to see \"Kadosh\" --...      0\n",
       "24998  ...now please move on because that's getting o...      0\n",
       "24999  I'm not one of those folks who bemoans everyti...      0\n",
       "\n",
       "[25000 rows x 2 columns]"
      ]
     },
     "execution_count": 8,
     "metadata": {
      "tags": []
     },
     "output_type": "execute_result"
    }
   ],
   "source": [
    "test = read_data('aclImdb/test')\n",
    "test"
   ]
  },
  {
   "cell_type": "code",
   "execution_count": 5,
   "metadata": {
    "colab": {
     "base_uri": "https://localhost:8080/",
     "height": 66,
     "referenced_widgets": [
      "c71f43f93e0b42acba957c467566bb7b",
      "0b0b25992de6445a988d8df9b285ae46",
      "0b6ad2e105bb4c63a9b1aae3a695a274",
      "30dafd20536945fd99c8f337902ea17f",
      "e3056ccd69614913a96892452bda9f32",
      "9d26df74df7d49f4ad7ad67338e666a9",
      "3eed1c500d0f47faa392d314a2c4dfe4",
      "53340cca81d34872aecbdee2a6043845"
     ]
    },
    "colab_type": "code",
    "id": "ig2WK5rHb72w",
    "outputId": "2f5b3769-0f0f-4354-c6bf-4984c9c3e9eb"
   },
   "outputs": [
    {
     "data": {
      "application/vnd.jupyter.widget-view+json": {
       "model_id": "c71f43f93e0b42acba957c467566bb7b",
       "version_major": 2,
       "version_minor": 0
      },
      "text/plain": [
       "HBox(children=(FloatProgress(value=0.0, description='Downloading', max=231508.0, style=ProgressStyle(descripti…"
      ]
     },
     "metadata": {
      "tags": []
     },
     "output_type": "display_data"
    },
    {
     "name": "stdout",
     "output_type": "stream",
     "text": [
      "\n"
     ]
    }
   ],
   "source": [
    "tokenizer = BertTokenizer.from_pretrained('bert-base-uncased', do_lower_case=True)"
   ]
  },
  {
   "cell_type": "code",
   "execution_count": null,
   "metadata": {
    "colab": {},
    "colab_type": "code",
    "id": "jpz8TDtdc__z"
   },
   "outputs": [],
   "source": [
    "def tokenize(data, tokenizer, max_len=256):\n",
    "    data = data.copy()\n",
    "    data.loc[:, 'attention_masks'] = data.text.apply(\n",
    "        lambda x: tokenizer.encode_plus(x, add_special_tokens=True,\n",
    "                                        max_length=max_len,\n",
    "                                        pad_to_max_length=True,\n",
    "                                        truncation=True,\n",
    "                                        return_attention_mask=True,\n",
    "                                        return_tensors='pt')['attention_mask']\n",
    "        )\n",
    "    \n",
    "    data.loc[:, 'input_ids'] = data.text.apply(\n",
    "        lambda x: tokenizer.encode_plus(x, add_special_tokens=True,\n",
    "                                        max_length=max_len,\n",
    "                                        pad_to_max_length = True,\n",
    "                                        truncation=True,\n",
    "                                        return_tensors = 'pt')['input_ids']\n",
    "        )\n",
    "   \n",
    "    return data\n",
    "    "
   ]
  },
  {
   "cell_type": "code",
   "execution_count": null,
   "metadata": {
    "colab": {},
    "colab_type": "code",
    "id": "0FZ08kLaiU7y"
   },
   "outputs": [],
   "source": [
    "train_tokenized = tokenize(train, tokenizer)\n",
    "test_tokenized = tokenize(test, tokenizer)"
   ]
  },
  {
   "cell_type": "code",
   "execution_count": null,
   "metadata": {
    "colab": {
     "base_uri": "https://localhost:8080/",
     "height": 34
    },
    "colab_type": "code",
    "id": "zlYLh9YHh2QP",
    "outputId": "e4912395-0032-41a4-8b4b-709e41035862"
   },
   "outputs": [
    {
     "data": {
      "text/plain": [
       "(20000, 5000, 25000)"
      ]
     },
     "execution_count": 13,
     "metadata": {
      "tags": []
     },
     "output_type": "execute_result"
    }
   ],
   "source": [
    "train_dataset = TensorDataset(\n",
    "    torch.cat(tuple(train_tokenized.input_ids.values), dim=0),\n",
    "    torch.cat(tuple(train_tokenized.attention_masks.values), dim=0),\n",
    "    torch.tensor(train_tokenized.label, dtype=torch.long)    \n",
    ")\n",
    "\n",
    "train_size = int(0.8 * len(train_dataset))\n",
    "val_size = len(train_dataset) - train_size\n",
    "\n",
    "train_dataset, val_dataset = random_split(train_dataset, [train_size, val_size])\n",
    "\n",
    "test_dataset = TensorDataset(\n",
    "    torch.cat(tuple(test_tokenized.input_ids.values), dim=0),\n",
    "    torch.cat(tuple(test_tokenized.attention_masks.values), dim=0),\n",
    "    torch.tensor(test_tokenized.label, dtype=torch.long)\n",
    ")\n",
    "\n",
    "len(train_dataset), len(val_dataset), len(test_dataset)"
   ]
  },
  {
   "cell_type": "code",
   "execution_count": null,
   "metadata": {
    "colab": {},
    "colab_type": "code",
    "id": "hWdYCvIAnLNe"
   },
   "outputs": [],
   "source": [
    "batch_size = 16\n",
    "\n",
    "train_dataloader = DataLoader(\n",
    "            train_dataset, \n",
    "            shuffle=True,\n",
    "            batch_size = batch_size\n",
    "        )\n",
    "\n",
    "val_dataloader = DataLoader(\n",
    "            val_dataset,\n",
    "            shuffle=False,\n",
    "            batch_size = batch_size \n",
    "        )\n",
    "\n",
    "test_dataloader = DataLoader(\n",
    "            test_dataset,\n",
    "            shuffle=False,\n",
    "            batch_size = batch_size \n",
    "        )"
   ]
  },
  {
   "cell_type": "code",
   "execution_count": 6,
   "metadata": {
    "colab": {
     "base_uri": "https://localhost:8080/",
     "height": 218,
     "referenced_widgets": [
      "65e98d05a4434508921f7d06588c95ae",
      "32f1d0c56009412e9b900a14129b7f47",
      "45ab6ef2211945dd90da73c46c7c0f31",
      "5289400dab864ff08bde6348c53d8111",
      "c1fd288aa44641e09fd85668feda28e9",
      "e9f8f2186cac464fa478f13cc988d5cb",
      "8dda841534f942678699b456f3e75990",
      "31350ddf698d4f5d99f4a6f14c7dd37d",
      "e747cbae31244a0bbc4bb221be668166",
      "654a4cf1f4894eaba416bbeb7780fded",
      "412c770a208141d8bf8046308c1cff58",
      "370688c75a934f23ace9f3a77c7a24f3",
      "65452f0d22f342ff88b2b96a850d91da",
      "ac727b28328d42608b92b78754b09b07",
      "547612b0e1914eaca5f9789e219cfa93",
      "7f4ee4eea73a46559f9eaf230a07e09f"
     ]
    },
    "colab_type": "code",
    "id": "UEDCFxLkn_Tr",
    "outputId": "a9e0b020-8525-4059-8301-cd0fc0db1ad7"
   },
   "outputs": [
    {
     "data": {
      "application/vnd.jupyter.widget-view+json": {
       "model_id": "65e98d05a4434508921f7d06588c95ae",
       "version_major": 2,
       "version_minor": 0
      },
      "text/plain": [
       "HBox(children=(FloatProgress(value=0.0, description='Downloading', max=433.0, style=ProgressStyle(description_…"
      ]
     },
     "metadata": {
      "tags": []
     },
     "output_type": "display_data"
    },
    {
     "name": "stdout",
     "output_type": "stream",
     "text": [
      "\n"
     ]
    },
    {
     "data": {
      "application/vnd.jupyter.widget-view+json": {
       "model_id": "e747cbae31244a0bbc4bb221be668166",
       "version_major": 2,
       "version_minor": 0
      },
      "text/plain": [
       "HBox(children=(FloatProgress(value=0.0, description='Downloading', max=440473133.0, style=ProgressStyle(descri…"
      ]
     },
     "metadata": {
      "tags": []
     },
     "output_type": "display_data"
    },
    {
     "name": "stdout",
     "output_type": "stream",
     "text": [
      "\n"
     ]
    },
    {
     "name": "stderr",
     "output_type": "stream",
     "text": [
      "Some weights of the model checkpoint at bert-base-uncased were not used when initializing BertForSequenceClassification: ['cls.predictions.bias', 'cls.predictions.transform.dense.weight', 'cls.predictions.transform.dense.bias', 'cls.predictions.decoder.weight', 'cls.seq_relationship.weight', 'cls.seq_relationship.bias', 'cls.predictions.transform.LayerNorm.weight', 'cls.predictions.transform.LayerNorm.bias']\n",
      "- This IS expected if you are initializing BertForSequenceClassification from the checkpoint of a model trained on another task or with another architecture (e.g. initializing a BertForSequenceClassification model from a BertForPretraining model).\n",
      "- This IS NOT expected if you are initializing BertForSequenceClassification from the checkpoint of a model that you expect to be exactly identical (initializing a BertForSequenceClassification model from a BertForSequenceClassification model).\n",
      "Some weights of BertForSequenceClassification were not initialized from the model checkpoint at bert-base-uncased and are newly initialized: ['classifier.weight', 'classifier.bias']\n",
      "You should probably TRAIN this model on a down-stream task to be able to use it for predictions and inference.\n"
     ]
    }
   ],
   "source": [
    "model = BertForSequenceClassification.from_pretrained(\n",
    "    \"bert-base-uncased\",\n",
    "    num_labels = 2,   \n",
    "    output_attentions = False,\n",
    "    output_hidden_states = False,\n",
    ")\n",
    "\n",
    "model.to(device)\n",
    "pass"
   ]
  },
  {
   "cell_type": "code",
   "execution_count": null,
   "metadata": {
    "colab": {},
    "colab_type": "code",
    "id": "HIW6uft_io41"
   },
   "outputs": [],
   "source": [
    "def train_loop(\n",
    "    model, \n",
    "    optimizer, \n",
    "    train_batch_gen,\n",
    "    val_batch_gen,\n",
    "    num_epochs=50,\n",
    "    early_stopping=10,\n",
    "    path_save=None,\n",
    "    scheduler=None,\n",
    "    history=None,\n",
    "):\n",
    "    '''\n",
    "    Функция для обучения модели и вывода лосса и метрики во время обучения.\n",
    "\n",
    "    :param model: обучаемая модель\n",
    "    :param optimizer: метод оптимизации\n",
    "    :param train_batch_gen: генератор батчей для обучения\n",
    "    :param val_batch_gen: генератор батчей для валидации\n",
    "    :param num_epochs: количество эпох\n",
    "    :param early_stopping: ранняя остановка после стольких эпох без улучшений\n",
    "    :param path_save: путь для сохранения модели с лучшим скором на валидации\n",
    "    :param scheduler: learning rate scheduler\n",
    "    :param history: предыдущая история обучения\n",
    "\n",
    "    :return: обученная модель\n",
    "    :return: (dict) accuracy и loss на обучении и валидации (\"история\" обучения)\n",
    "    '''\n",
    "\n",
    "    if history is None:\n",
    "        history = defaultdict(lambda: defaultdict(list))\n",
    "\n",
    "    best_val_acc = 0\n",
    "    no_improvements = 0\n",
    "\n",
    "    for epoch in range(num_epochs):\n",
    "        train_loss = 0\n",
    "        train_acc = 0\n",
    "        val_loss = 0\n",
    "        val_acc = 0\n",
    "        \n",
    "        start_time = time.time()\n",
    "\n",
    "        model.train() \n",
    "\n",
    "        for X_batch, attention_mask, y_batch in train_batch_gen:\n",
    "            X_batch = X_batch.to(device)\n",
    "            attention_mask = attention_mask.to(device)\n",
    "            y_batch = y_batch.to(device)\n",
    "            \n",
    "            loss, logits = model(X_batch, \n",
    "                             token_type_ids=None, \n",
    "                             attention_mask=attention_mask, \n",
    "                             labels=y_batch)\n",
    "\n",
    "            loss.backward()\n",
    "            optimizer.step()\n",
    "            optimizer.zero_grad()\n",
    "            \n",
    "            train_loss += np.sum(loss.detach().cpu().numpy())\n",
    "            y_pred = logits.max(1)[1].detach().cpu().numpy()\n",
    "            train_acc += np.mean(y_batch.cpu().numpy() == y_pred)\n",
    "\n",
    "        train_loss /= len(train_batch_gen)\n",
    "        train_acc /= len(train_batch_gen) \n",
    "        history['loss']['train'].append(train_loss)\n",
    "        history['acc']['train'].append(train_acc)\n",
    "    \n",
    "        model.eval() \n",
    "\n",
    "        for X_batch, attention_mask, y_batch in val_batch_gen:\n",
    "            X_batch = X_batch.to(device)\n",
    "            attention_mask = attention_mask.to(device)\n",
    "            y_batch = y_batch.to(device)\n",
    "            \n",
    "            loss, logits = model(X_batch, \n",
    "                             token_type_ids=None, \n",
    "                             attention_mask=attention_mask, \n",
    "                             labels=y_batch)\n",
    "            \n",
    "            val_loss += np.sum(loss.detach().cpu().numpy())\n",
    "            y_pred = logits.max(1)[1].detach().cpu().numpy()\n",
    "            val_acc += np.mean(y_batch.cpu().numpy() == y_pred)\n",
    "\n",
    "        val_loss /= len(val_batch_gen)\n",
    "        val_acc /= len(val_batch_gen) \n",
    "        history['loss']['val'].append(val_loss)\n",
    "        history['acc']['val'].append(val_acc)\n",
    "        if val_acc > best_val_acc:\n",
    "            best_val_acc = 0\n",
    "            no_improvements = 0\n",
    "            if path_save is not None:\n",
    "                torch.save(model, path_save)\n",
    "        else:\n",
    "            no_improvements += 1\n",
    "        \n",
    "        if scheduler is not None:\n",
    "            scheduler.step()\n",
    "\n",
    "        clear_output()\n",
    "\n",
    "        print(\"Epoch {} of {} took {:.3f}s\".format(\n",
    "            epoch + 1, num_epochs, time.time() - start_time))\n",
    "        print(\"  training loss (in-iteration): \\t{:.6f}\".format(train_loss))\n",
    "        print(\"  validation loss (in-iteration): \\t{:.6f}\".format(val_loss))\n",
    "        print(\"  training accuracy: \\t\\t\\t{:.2f} %\".format(train_acc * 100))\n",
    "        print(\"  validation accuracy: \\t\\t\\t{:.2f} %\".format(val_acc * 100))\n",
    "        \n",
    "        plot_learning_curves(history)\n",
    "        if no_improvements >= early_stopping:\n",
    "            print(f'Early stopping after {early_stopping} epochs without progress')\n",
    "            break\n",
    "        \n",
    "    return model, history"
   ]
  },
  {
   "cell_type": "code",
   "execution_count": null,
   "metadata": {
    "colab": {},
    "colab_type": "code",
    "id": "5qdSEHbwvdud"
   },
   "outputs": [],
   "source": [
    "learning_rate = 3e-5\n",
    "num_epochs = 3\n",
    "optimizer = torch.optim.Adam(model.parameters(), lr=learning_rate)    \n",
    "path_save = 'drive/My Drive/Colab Models/Гринатом/bert1.pt'"
   ]
  },
  {
   "cell_type": "code",
   "execution_count": null,
   "metadata": {
    "colab": {
     "base_uri": "https://localhost:8080/",
     "height": 534
    },
    "colab_type": "code",
    "id": "itiqK6bmvbPM",
    "outputId": "a82e932a-9cfc-4188-8f47-9aed5b66574b"
   },
   "outputs": [
    {
     "name": "stdout",
     "output_type": "stream",
     "text": [
      "Epoch 3 of 3 took 1865.668s\n",
      "  training loss (in-iteration): \t0.073625\n",
      "  validation loss (in-iteration): \t0.311700\n",
      "  training accuracy: \t\t\t97.52 %\n",
      "  validation accuracy: \t\t\t90.02 %\n"
     ]
    },
    {
     "data": {
      "image/png": "[encoded data removed]",
      "text/plain": [
       "<Figure size 1440x504 with 2 Axes>"
      ]
     },
     "metadata": {
      "tags": []
     },
     "output_type": "display_data"
    }
   ],
   "source": [
    "model, history = train_loop(model, optimizer, train_dataloader,\n",
    "                            val_dataloader, num_epochs, path_save=path_save)"
   ]
  },
  {
   "cell_type": "code",
   "execution_count": null,
   "metadata": {
    "colab": {},
    "colab_type": "code",
    "id": "acSPXlWNwy_b"
   },
   "outputs": [],
   "source": [
    "path_save = 'drive/My Drive/Colab Models/Гринатом/bert2.pt'"
   ]
  },
  {
   "cell_type": "code",
   "execution_count": null,
   "metadata": {
    "colab": {
     "base_uri": "https://localhost:8080/",
     "height": 534
    },
    "colab_type": "code",
    "id": "rdan-nQnECkt",
    "outputId": "0ab08606-77e8-4a0f-9712-ec330fbe710d"
   },
   "outputs": [
    {
     "name": "stdout",
     "output_type": "stream",
     "text": [
      "Epoch 3 of 3 took 1845.780s\n",
      "  training loss (in-iteration): \t0.027341\n",
      "  validation loss (in-iteration): \t0.368115\n",
      "  training accuracy: \t\t\t99.17 %\n",
      "  validation accuracy: \t\t\t91.81 %\n"
     ]
    },
    {
     "data": {
      "image/png": "[encoded data removed]",
      "text/plain": [
       "<Figure size 1440x504 with 2 Axes>"
      ]
     },
     "metadata": {
      "tags": []
     },
     "output_type": "display_data"
    }
   ],
   "source": [
    "model, history = train_loop(model, optimizer, train_dataloader,\n",
    "                            val_dataloader, num_epochs, path_save=path_save,\n",
    "                            history=history)                      "
   ]
  },
  {
   "cell_type": "code",
   "execution_count": null,
   "metadata": {
    "colab": {},
    "colab_type": "code",
    "id": "Svk36mn55Nun"
   },
   "outputs": [],
   "source": [
    "model = torch.load('drive/My Drive/Colab Models/Гринатом/bert2.pt')\n",
    "model.eval()\n",
    "pass"
   ]
  },
  {
   "cell_type": "code",
   "execution_count": null,
   "metadata": {
    "colab": {},
    "colab_type": "code",
    "id": "d0pFUJTFEhn3"
   },
   "outputs": [],
   "source": [
    "def score_on_test(model, test_batch_gen):\n",
    "    model.eval()\n",
    "    test_acc = 0\n",
    "    for X_batch, attention_mask, y_batch in test_batch_gen:\n",
    "            X_batch = X_batch.to(device)\n",
    "            attention_mask = attention_mask.to(device)\n",
    "            y_batch = y_batch.to(device)\n",
    "            \n",
    "            loss, logits = model(X_batch, \n",
    "                             token_type_ids=None, \n",
    "                             attention_mask=attention_mask, \n",
    "                             labels=y_batch)\n",
    "            \n",
    "            y_pred = logits.max(1)[1].detach().cpu().numpy()\n",
    "            test_acc += np.mean(y_batch.cpu().numpy() == y_pred)\n",
    "\n",
    "    test_acc /= len(test_batch_gen)\n",
    "    return test_acc"
   ]
  },
  {
   "cell_type": "code",
   "execution_count": null,
   "metadata": {
    "colab": {
     "base_uri": "https://localhost:8080/",
     "height": 67
    },
    "colab_type": "code",
    "id": "zVvvIrA8FgrU",
    "outputId": "c1188295-5238-426a-f648-88d54071c655"
   },
   "outputs": [
    {
     "name": "stdout",
     "output_type": "stream",
     "text": [
      "accuracy на тесте: 0.9137\n",
      "CPU times: user 7min 11s, sys: 4min 22s, total: 11min 33s\n",
      "Wall time: 11min 33s\n"
     ]
    }
   ],
   "source": [
    "%%time\n",
    "print('accuracy на тесте:', round(score_on_test(model, test_dataloader), 4))"
   ]
  },
  {
   "cell_type": "markdown",
   "metadata": {
    "colab_type": "text",
    "id": "wv3Xyc6_2yrZ"
   },
   "source": [
    "Качество на тесте значительно улучшилось по сравнению с двумя предыдущими моделями. Кроме того, полученное качество превосходит результаты в рекомендованной статье($\\approx 0.89$). Это, впрочем, неудивительно, ведь статья датируется 2011 годом, а мы использовали относительно современную модель.\n",
    "\n",
    "Выберем эту модель для деплоя. Её результаты, несомненно, можно было бы улучшить, к примеру, взяв ещё более современные архитектуры, подобрав параметры оптимизатора, либо поменяв архитектуру(добавляем больше слоёв на классификацию). Можно было бы так же взять DistilBERT, чтобы упростить деплой модели, учитывая, что на сервере очень ограниченные ресурсы."
   ]
  },
  {
   "cell_type": "markdown",
   "metadata": {
    "colab_type": "text",
    "id": "ssGOZEWh375q"
   },
   "source": [
    "### Определение оценки отзыва"
   ]
  },
  {
   "cell_type": "markdown",
   "metadata": {
    "colab_type": "text",
    "id": "qIclCFrJ9L8P"
   },
   "source": [
    "Так как модель предсказывает только вероятность того, что отзыв является позитивным, то необходимо научиться каким-то образом выставлять по этому рейтинг. На трейновой выборке вероятности могут быть слишком смещены из-за того, что модель как раз обучалась предсказывать вероятности для отзывов из трейна. Поэтому будем подбирать пороги по предсказаниям на тесте.\n",
    "\n",
    "Сначала посмотрим на распределение оценок."
   ]
  },
  {
   "cell_type": "code",
   "execution_count": null,
   "metadata": {
    "colab": {},
    "colab_type": "code",
    "id": "MdYDbsx9La1C"
   },
   "outputs": [],
   "source": [
    "ratings = []\n",
    "path = 'aclImdb/test'\n",
    "for dir in ['pos', 'neg']:\n",
    "    dir_path = os.path.join(path, dir)\n",
    "    files = os.listdir(dir_path)\n",
    "    for file in files:\n",
    "        rating = file.split('_')[1].split('.')[0]\n",
    "        ratings.append(int(rating))\n"
   ]
  },
  {
   "cell_type": "code",
   "execution_count": null,
   "metadata": {
    "colab": {
     "base_uri": "https://localhost:8080/",
     "height": 34
    },
    "colab_type": "code",
    "id": "OxSsWWk5VnCk",
    "outputId": "a870f839-424e-4ce6-943e-b168c1135ba4"
   },
   "outputs": [
    {
     "data": {
      "text/plain": [
       "[5022, 2302, 2541, 2635, 0, 0, 2307, 2850, 2344, 4999]"
      ]
     },
     "execution_count": 105,
     "metadata": {
      "tags": []
     },
     "output_type": "execute_result"
    }
   ],
   "source": [
    "rating_counts = list(np.unique(ratings, return_counts=True)[1])\n",
    "#добавляем рейтинги 5 и 6\n",
    "rating_counts = rating_counts[:4] + [0, 0] + rating_counts[4:]\n",
    "rating_counts"
   ]
  },
  {
   "cell_type": "code",
   "execution_count": null,
   "metadata": {
    "colab": {
     "base_uri": "https://localhost:8080/",
     "height": 418
    },
    "colab_type": "code",
    "id": "XFOT-5bJVYIh",
    "outputId": "3f6f5a28-6cf1-47aa-8666-9be6073ab410"
   },
   "outputs": [
    {
     "data": {
      "image/png": "[encoded data removed]",
      "text/plain": [
       "<Figure size 864x432 with 1 Axes>"
      ]
     },
     "metadata": {
      "tags": []
     },
     "output_type": "display_data"
    }
   ],
   "source": [
    "plt.figure(figsize=(12, 6))\n",
    "sns.barplot(x=np.arange(10) + 1, y=rating_counts)\n",
    "plt.title('Гистограмма рейтингов в тесте')\n",
    "plt.xlabel('рейтинг')\n",
    "plt.ylabel('количество оценок')\n",
    "plt.show()"
   ]
  },
  {
   "cell_type": "markdown",
   "metadata": {
    "colab_type": "text",
    "id": "nZ5leltXAa7f"
   },
   "source": [
    "Оценки $5$ и $6$ в принципе отсутствуют в данных. Оценки $2-4$ и $7-9$ распределены примерно равномерно, а $1$ и $10$ -- более частые по сравнению с остальными. \n",
    "\n",
    "Визуализируем зависимость рейтинга от предсказанной вероятности(а точнее, её логарифма). Может быть, визуализация позволит вручную выбрать пороги вероятности, по которым будет определена оценка. Чем больше предсказанная вероятность, тем больше должна быть оценка, и наоборот."
   ]
  },
  {
   "cell_type": "code",
   "execution_count": null,
   "metadata": {
    "colab": {
     "base_uri": "https://localhost:8080/",
     "height": 70
    },
    "colab_type": "code",
    "id": "hwzMlEmEiNMU",
    "outputId": "a6519337-e2d4-4d3f-9161-be9f02056dc4"
   },
   "outputs": [
    {
     "name": "stderr",
     "output_type": "stream",
     "text": [
      "/usr/local/lib/python3.6/dist-packages/ipykernel_launcher.py:13: UserWarning: Implicit dimension choice for log_softmax has been deprecated. Change the call to include dim=X as an argument.\n",
      "  del sys.path[0]\n"
     ]
    }
   ],
   "source": [
    "test_logprobs = []\n",
    "model.eval()\n",
    "for X_batch, attention_mask, y_batch in test_dataloader:\n",
    "            X_batch = X_batch.to(device)\n",
    "            attention_mask = attention_mask.to(device)\n",
    "            y_batch = y_batch.to(device) \n",
    "            \n",
    "            loss, logits = model(X_batch, \n",
    "                             token_type_ids=None, \n",
    "                             attention_mask=attention_mask, \n",
    "                             labels=y_batch)\n",
    "\n",
    "            logprobs = F.log_softmax(logits)[:, 1]\n",
    "            test_logprobs += list(logprobs.detach().cpu().numpy())"
   ]
  },
  {
   "cell_type": "code",
   "execution_count": null,
   "metadata": {
    "colab": {
     "base_uri": "https://localhost:8080/",
     "height": 526
    },
    "colab_type": "code",
    "id": "3YxKBTeLXYE1",
    "outputId": "c15af2d8-402d-4f48-80eb-53dfd32b08bd"
   },
   "outputs": [
    {
     "data": {
      "image/png": "[encoded data removed]",
      "text/plain": [
       "<Figure size 1080x576 with 1 Axes>"
      ]
     },
     "metadata": {
      "tags": []
     },
     "output_type": "display_data"
    }
   ],
   "source": [
    "plt.figure(figsize=(15, 8))\n",
    "plt.scatter(test_logprobs, ratings, alpha=0.05)\n",
    "plt.title('Зависимость рейтинга отзыва от вероятности того, что он положительный') \n",
    "plt.xlabel('логарифм вероятности, что отзыв положительный')\n",
    "plt.ylabel('рейтинг отзыва')\n",
    "plt.show()"
   ]
  },
  {
   "cell_type": "markdown",
   "metadata": {
    "colab_type": "text",
    "id": "dYzD5s9GDmSU"
   },
   "source": [
    "По такому графику сложно подобрать какие-либо пороги разбиения.\n",
    "\n",
    "Построим для каждого рейтинга ящик с усами логарифмов предсказанных вероятностей."
   ]
  },
  {
   "cell_type": "code",
   "execution_count": null,
   "metadata": {
    "colab": {
     "base_uri": "https://localhost:8080/",
     "height": 489
    },
    "colab_type": "code",
    "id": "ibHhIcbFMuV1",
    "outputId": "9e0d5646-2af6-4e4d-82e3-9db131280bcf"
   },
   "outputs": [
    {
     "data": {
      "image/png": "[encoded data removed]",
      "text/plain": [
       "<Figure size 1080x576 with 1 Axes>"
      ]
     },
     "metadata": {
      "tags": []
     },
     "output_type": "display_data"
    }
   ],
   "source": [
    "plt.figure(figsize=(15, 8))\n",
    "sns.boxplot(ratings, test_logprobs)\n",
    "plt.show()"
   ]
  },
  {
   "cell_type": "markdown",
   "metadata": {
    "colab_type": "text",
    "id": "BQhPFNDXD6kO"
   },
   "source": [
    "Для оценок $1-4$ ещё можно подобрать пороги по графику, а для оценок $7-10$ это уже не представляется возможным. Откажется от этого подхода и подберём пороги просто как выборочные квантили распределения логарифма вероятности. Это сделает предсказание оценок отзывов на тестовой выборке равномерным и, скорее всего, предсказанные оценки будут достаточно часто отличаться от истинных, но всё же будет хоть какой-то способ оценить рейтинг комментария. Это в любом случае было неизбежно, так как в данных отсутствуют комментарии с рейтингами $5$ и $6$. "
   ]
  },
  {
   "cell_type": "code",
   "execution_count": null,
   "metadata": {
    "colab": {
     "base_uri": "https://localhost:8080/",
     "height": 67
    },
    "colab_type": "code",
    "id": "MwgfuXWmp-p9",
    "outputId": "903e1a53-211b-4375-ba65-1df347c1bf72"
   },
   "outputs": [
    {
     "data": {
      "text/plain": [
       "array([-9.15513935e+00, -8.93880043e+00, -8.27962961e+00, -5.53425903e+00,\n",
       "       -3.35847884e-01, -1.01976395e-03, -2.50339508e-04, -2.18868256e-04,\n",
       "       -1.99317932e-04])"
      ]
     },
     "execution_count": 141,
     "metadata": {
      "tags": []
     },
     "output_type": "execute_result"
    }
   ],
   "source": [
    "np.quantile(test_logprobs, np.arange(0.1, 1, 0.1))"
   ]
  },
  {
   "cell_type": "markdown",
   "metadata": {
    "colab_type": "text",
    "id": "f8soC9p25dG4"
   },
   "source": [
    "Пример использования модели для обработки одного отзыва:"
   ]
  },
  {
   "cell_type": "code",
   "execution_count": 7,
   "metadata": {
    "colab": {},
    "colab_type": "code",
    "id": "OE_oPF2ww1Sm"
   },
   "outputs": [],
   "source": [
    "model = torch.load('drive/My Drive/Colab Models/Гринатом/bert2.pt',\n",
    "                   map_location=device)\n",
    "model.eval()\n",
    "pass"
   ]
  },
  {
   "cell_type": "code",
   "execution_count": 52,
   "metadata": {
    "colab": {},
    "colab_type": "code",
    "id": "0Rg_QJYQz0u-"
   },
   "outputs": [],
   "source": [
    "def classify_comment(model, tokenizer, text, max_len=256):\n",
    "    # квантили распределения логарифма вероятности, \n",
    "    # по которым будет выставлен рейтинг\n",
    "    quantiles = np.array([-9.15513935e+00, -8.93880043e+00, -8.27962961e+00,\n",
    "                          -5.53425903e+00, -3.35847884e-01, -1.01976395e-03,\n",
    "                          -2.50339508e-04, -2.18868256e-04, -1.99317932e-04])\n",
    "    model.eval()\n",
    "    res = tokenizer.encode_plus(text, add_special_tokens=True,\n",
    "                                        max_length=max_len,\n",
    "                                        pad_to_max_length=True,\n",
    "                                        truncation=True,\n",
    "                                        return_attention_mask=True,\n",
    "                                        return_tensors='pt')\n",
    "    # батч состоит из одного элемента\n",
    "    X_batch = res['input_ids']#.unsqueeze(0)\n",
    "    attention_mask = res['attention_mask']#.unsqueeze(0)\n",
    "    logits = model(X_batch, token_type_ids=None, \n",
    "                             attention_mask=attention_mask)[0]\n",
    "    # положительный комментарий - 1, отрицательный - 0\n",
    "    sentiment = logits.max(1)[1].detach().cpu().numpy().item()\n",
    "    # логарифм вероятности того, что комментарий положительный\n",
    "    logprob = F.log_softmax(logits, dim=1)[:, 1].item()\n",
    "    score = np.sum(logprob >= quantiles) + 1\n",
    "\n",
    "    return sentiment, score"
   ]
  },
  {
   "cell_type": "code",
   "execution_count": 54,
   "metadata": {
    "colab": {
     "base_uri": "https://localhost:8080/",
     "height": 34
    },
    "colab_type": "code",
    "id": "RzLzrV2c976T",
    "outputId": "2b918ba7-7a9d-4b53-f88f-2ac9f0477d11"
   },
   "outputs": [
    {
     "data": {
      "text/plain": [
       "(1, 9)"
      ]
     },
     "execution_count": 54,
     "metadata": {
      "tags": []
     },
     "output_type": "execute_result"
    }
   ],
   "source": [
    "classify_comment(model, tokenizer, 'This movie is the best.')"
   ]
  },
  {
   "cell_type": "markdown",
   "metadata": {
    "colab_type": "text",
    "id": "GK2WVXLD5scS"
   },
   "source": [
    "Этот комментарий действительно положительный и соответствует высокой оценке."
   ]
  }
 ],
 "metadata": {
  "colab": {
   "collapsed_sections": [],
   "name": "Илья Воробьёв тестовое задание.ipynb",
   "provenance": [],
   "toc_visible": true
  },
  "kernelspec": {
   "display_name": "Python 3",
   "language": "python",
   "name": "python3"
  },
  "language_info": {
   "codemirror_mode": {
    "name": "ipython",
    "version": 3
   },
   "file_extension": ".py",
   "mimetype": "text/x-python",
   "name": "python",
   "nbconvert_exporter": "python",
   "pygments_lexer": "ipython3",
   "version": "3.7.7"
  },
  "widgets": {
   "application/vnd.jupyter.widget-state+json": {
    "0b0b25992de6445a988d8df9b285ae46": {
     "model_module": "@jupyter-widgets/base",
     "model_name": "LayoutModel",
     "state": {
      "_model_module": "@jupyter-widgets/base",
      "_model_module_version": "1.2.0",
      "_model_name": "LayoutModel",
      "_view_count": null,
      "_view_module": "@jupyter-widgets/base",
      "_view_module_version": "1.2.0",
      "_view_name": "LayoutView",
      "align_content": null,
      "align_items": null,
      "align_self": null,
      "border": null,
      "bottom": null,
      "display": null,
      "flex": null,
      "flex_flow": null,
      "grid_area": null,
      "grid_auto_columns": null,
      "grid_auto_flow": null,
      "grid_auto_rows": null,
      "grid_column": null,
      "grid_gap": null,
      "grid_row": null,
      "grid_template_areas": null,
      "grid_template_columns": null,
      "grid_template_rows": null,
      "height": null,
      "justify_content": null,
      "justify_items": null,
      "left": null,
      "margin": null,
      "max_height": null,
      "max_width": null,
      "min_height": null,
      "min_width": null,
      "object_fit": null,
      "object_position": null,
      "order": null,
      "overflow": null,
      "overflow_x": null,
      "overflow_y": null,
      "padding": null,
      "right": null,
      "top": null,
      "visibility": null,
      "width": null
     }
    },
    "0b6ad2e105bb4c63a9b1aae3a695a274": {
     "model_module": "@jupyter-widgets/controls",
     "model_name": "FloatProgressModel",
     "state": {
      "_dom_classes": [],
      "_model_module": "@jupyter-widgets/controls",
      "_model_module_version": "1.5.0",
      "_model_name": "FloatProgressModel",
      "_view_count": null,
      "_view_module": "@jupyter-widgets/controls",
      "_view_module_version": "1.5.0",
      "_view_name": "ProgressView",
      "bar_style": "success",
      "description": "Downloading: 100%",
      "description_tooltip": null,
      "layout": "IPY_MODEL_9d26df74df7d49f4ad7ad67338e666a9",
      "max": 231508,
      "min": 0,
      "orientation": "horizontal",
      "style": "IPY_MODEL_e3056ccd69614913a96892452bda9f32",
      "value": 231508
     }
    },
    "30dafd20536945fd99c8f337902ea17f": {
     "model_module": "@jupyter-widgets/controls",
     "model_name": "HTMLModel",
     "state": {
      "_dom_classes": [],
      "_model_module": "@jupyter-widgets/controls",
      "_model_module_version": "1.5.0",
      "_model_name": "HTMLModel",
      "_view_count": null,
      "_view_module": "@jupyter-widgets/controls",
      "_view_module_version": "1.5.0",
      "_view_name": "HTMLView",
      "description": "",
      "description_tooltip": null,
      "layout": "IPY_MODEL_53340cca81d34872aecbdee2a6043845",
      "placeholder": "​",
      "style": "IPY_MODEL_3eed1c500d0f47faa392d314a2c4dfe4",
      "value": " 232k/232k [00:00&lt;00:00, 304kB/s]"
     }
    },
    "31350ddf698d4f5d99f4a6f14c7dd37d": {
     "model_module": "@jupyter-widgets/base",
     "model_name": "LayoutModel",
     "state": {
      "_model_module": "@jupyter-widgets/base",
      "_model_module_version": "1.2.0",
      "_model_name": "LayoutModel",
      "_view_count": null,
      "_view_module": "@jupyter-widgets/base",
      "_view_module_version": "1.2.0",
      "_view_name": "LayoutView",
      "align_content": null,
      "align_items": null,
      "align_self": null,
      "border": null,
      "bottom": null,
      "display": null,
      "flex": null,
      "flex_flow": null,
      "grid_area": null,
      "grid_auto_columns": null,
      "grid_auto_flow": null,
      "grid_auto_rows": null,
      "grid_column": null,
      "grid_gap": null,
      "grid_row": null,
      "grid_template_areas": null,
      "grid_template_columns": null,
      "grid_template_rows": null,
      "height": null,
      "justify_content": null,
      "justify_items": null,
      "left": null,
      "margin": null,
      "max_height": null,
      "max_width": null,
      "min_height": null,
      "min_width": null,
      "object_fit": null,
      "object_position": null,
      "order": null,
      "overflow": null,
      "overflow_x": null,
      "overflow_y": null,
      "padding": null,
      "right": null,
      "top": null,
      "visibility": null,
      "width": null
     }
    },
    "32f1d0c56009412e9b900a14129b7f47": {
     "model_module": "@jupyter-widgets/base",
     "model_name": "LayoutModel",
     "state": {
      "_model_module": "@jupyter-widgets/base",
      "_model_module_version": "1.2.0",
      "_model_name": "LayoutModel",
      "_view_count": null,
      "_view_module": "@jupyter-widgets/base",
      "_view_module_version": "1.2.0",
      "_view_name": "LayoutView",
      "align_content": null,
      "align_items": null,
      "align_self": null,
      "border": null,
      "bottom": null,
      "display": null,
      "flex": null,
      "flex_flow": null,
      "grid_area": null,
      "grid_auto_columns": null,
      "grid_auto_flow": null,
      "grid_auto_rows": null,
      "grid_column": null,
      "grid_gap": null,
      "grid_row": null,
      "grid_template_areas": null,
      "grid_template_columns": null,
      "grid_template_rows": null,
      "height": null,
      "justify_content": null,
      "justify_items": null,
      "left": null,
      "margin": null,
      "max_height": null,
      "max_width": null,
      "min_height": null,
      "min_width": null,
      "object_fit": null,
      "object_position": null,
      "order": null,
      "overflow": null,
      "overflow_x": null,
      "overflow_y": null,
      "padding": null,
      "right": null,
      "top": null,
      "visibility": null,
      "width": null
     }
    },
    "370688c75a934f23ace9f3a77c7a24f3": {
     "model_module": "@jupyter-widgets/controls",
     "model_name": "HTMLModel",
     "state": {
      "_dom_classes": [],
      "_model_module": "@jupyter-widgets/controls",
      "_model_module_version": "1.5.0",
      "_model_name": "HTMLModel",
      "_view_count": null,
      "_view_module": "@jupyter-widgets/controls",
      "_view_module_version": "1.5.0",
      "_view_name": "HTMLView",
      "description": "",
      "description_tooltip": null,
      "layout": "IPY_MODEL_7f4ee4eea73a46559f9eaf230a07e09f",
      "placeholder": "​",
      "style": "IPY_MODEL_547612b0e1914eaca5f9789e219cfa93",
      "value": " 440M/440M [07:25&lt;00:00, 989kB/s]"
     }
    },
    "3eed1c500d0f47faa392d314a2c4dfe4": {
     "model_module": "@jupyter-widgets/controls",
     "model_name": "DescriptionStyleModel",
     "state": {
      "_model_module": "@jupyter-widgets/controls",
      "_model_module_version": "1.5.0",
      "_model_name": "DescriptionStyleModel",
      "_view_count": null,
      "_view_module": "@jupyter-widgets/base",
      "_view_module_version": "1.2.0",
      "_view_name": "StyleView",
      "description_width": ""
     }
    },
    "412c770a208141d8bf8046308c1cff58": {
     "model_module": "@jupyter-widgets/controls",
     "model_name": "FloatProgressModel",
     "state": {
      "_dom_classes": [],
      "_model_module": "@jupyter-widgets/controls",
      "_model_module_version": "1.5.0",
      "_model_name": "FloatProgressModel",
      "_view_count": null,
      "_view_module": "@jupyter-widgets/controls",
      "_view_module_version": "1.5.0",
      "_view_name": "ProgressView",
      "bar_style": "success",
      "description": "Downloading: 100%",
      "description_tooltip": null,
      "layout": "IPY_MODEL_ac727b28328d42608b92b78754b09b07",
      "max": 440473133,
      "min": 0,
      "orientation": "horizontal",
      "style": "IPY_MODEL_65452f0d22f342ff88b2b96a850d91da",
      "value": 440473133
     }
    },
    "45ab6ef2211945dd90da73c46c7c0f31": {
     "model_module": "@jupyter-widgets/controls",
     "model_name": "FloatProgressModel",
     "state": {
      "_dom_classes": [],
      "_model_module": "@jupyter-widgets/controls",
      "_model_module_version": "1.5.0",
      "_model_name": "FloatProgressModel",
      "_view_count": null,
      "_view_module": "@jupyter-widgets/controls",
      "_view_module_version": "1.5.0",
      "_view_name": "ProgressView",
      "bar_style": "success",
      "description": "Downloading: 100%",
      "description_tooltip": null,
      "layout": "IPY_MODEL_e9f8f2186cac464fa478f13cc988d5cb",
      "max": 433,
      "min": 0,
      "orientation": "horizontal",
      "style": "IPY_MODEL_c1fd288aa44641e09fd85668feda28e9",
      "value": 433
     }
    },
    "5289400dab864ff08bde6348c53d8111": {
     "model_module": "@jupyter-widgets/controls",
     "model_name": "HTMLModel",
     "state": {
      "_dom_classes": [],
      "_model_module": "@jupyter-widgets/controls",
      "_model_module_version": "1.5.0",
      "_model_name": "HTMLModel",
      "_view_count": null,
      "_view_module": "@jupyter-widgets/controls",
      "_view_module_version": "1.5.0",
      "_view_name": "HTMLView",
      "description": "",
      "description_tooltip": null,
      "layout": "IPY_MODEL_31350ddf698d4f5d99f4a6f14c7dd37d",
      "placeholder": "​",
      "style": "IPY_MODEL_8dda841534f942678699b456f3e75990",
      "value": " 433/433 [00:00&lt;00:00, 556B/s]"
     }
    },
    "53340cca81d34872aecbdee2a6043845": {
     "model_module": "@jupyter-widgets/base",
     "model_name": "LayoutModel",
     "state": {
      "_model_module": "@jupyter-widgets/base",
      "_model_module_version": "1.2.0",
      "_model_name": "LayoutModel",
      "_view_count": null,
      "_view_module": "@jupyter-widgets/base",
      "_view_module_version": "1.2.0",
      "_view_name": "LayoutView",
      "align_content": null,
      "align_items": null,
      "align_self": null,
      "border": null,
      "bottom": null,
      "display": null,
      "flex": null,
      "flex_flow": null,
      "grid_area": null,
      "grid_auto_columns": null,
      "grid_auto_flow": null,
      "grid_auto_rows": null,
      "grid_column": null,
      "grid_gap": null,
      "grid_row": null,
      "grid_template_areas": null,
      "grid_template_columns": null,
      "grid_template_rows": null,
      "height": null,
      "justify_content": null,
      "justify_items": null,
      "left": null,
      "margin": null,
      "max_height": null,
      "max_width": null,
      "min_height": null,
      "min_width": null,
      "object_fit": null,
      "object_position": null,
      "order": null,
      "overflow": null,
      "overflow_x": null,
      "overflow_y": null,
      "padding": null,
      "right": null,
      "top": null,
      "visibility": null,
      "width": null
     }
    },
    "547612b0e1914eaca5f9789e219cfa93": {
     "model_module": "@jupyter-widgets/controls",
     "model_name": "DescriptionStyleModel",
     "state": {
      "_model_module": "@jupyter-widgets/controls",
      "_model_module_version": "1.5.0",
      "_model_name": "DescriptionStyleModel",
      "_view_count": null,
      "_view_module": "@jupyter-widgets/base",
      "_view_module_version": "1.2.0",
      "_view_name": "StyleView",
      "description_width": ""
     }
    },
    "65452f0d22f342ff88b2b96a850d91da": {
     "model_module": "@jupyter-widgets/controls",
     "model_name": "ProgressStyleModel",
     "state": {
      "_model_module": "@jupyter-widgets/controls",
      "_model_module_version": "1.5.0",
      "_model_name": "ProgressStyleModel",
      "_view_count": null,
      "_view_module": "@jupyter-widgets/base",
      "_view_module_version": "1.2.0",
      "_view_name": "StyleView",
      "bar_color": null,
      "description_width": "initial"
     }
    },
    "654a4cf1f4894eaba416bbeb7780fded": {
     "model_module": "@jupyter-widgets/base",
     "model_name": "LayoutModel",
     "state": {
      "_model_module": "@jupyter-widgets/base",
      "_model_module_version": "1.2.0",
      "_model_name": "LayoutModel",
      "_view_count": null,
      "_view_module": "@jupyter-widgets/base",
      "_view_module_version": "1.2.0",
      "_view_name": "LayoutView",
      "align_content": null,
      "align_items": null,
      "align_self": null,
      "border": null,
      "bottom": null,
      "display": null,
      "flex": null,
      "flex_flow": null,
      "grid_area": null,
      "grid_auto_columns": null,
      "grid_auto_flow": null,
      "grid_auto_rows": null,
      "grid_column": null,
      "grid_gap": null,
      "grid_row": null,
      "grid_template_areas": null,
      "grid_template_columns": null,
      "grid_template_rows": null,
      "height": null,
      "justify_content": null,
      "justify_items": null,
      "left": null,
      "margin": null,
      "max_height": null,
      "max_width": null,
      "min_height": null,
      "min_width": null,
      "object_fit": null,
      "object_position": null,
      "order": null,
      "overflow": null,
      "overflow_x": null,
      "overflow_y": null,
      "padding": null,
      "right": null,
      "top": null,
      "visibility": null,
      "width": null
     }
    },
    "65e98d05a4434508921f7d06588c95ae": {
     "model_module": "@jupyter-widgets/controls",
     "model_name": "HBoxModel",
     "state": {
      "_dom_classes": [],
      "_model_module": "@jupyter-widgets/controls",
      "_model_module_version": "1.5.0",
      "_model_name": "HBoxModel",
      "_view_count": null,
      "_view_module": "@jupyter-widgets/controls",
      "_view_module_version": "1.5.0",
      "_view_name": "HBoxView",
      "box_style": "",
      "children": [
       "IPY_MODEL_45ab6ef2211945dd90da73c46c7c0f31",
       "IPY_MODEL_5289400dab864ff08bde6348c53d8111"
      ],
      "layout": "IPY_MODEL_32f1d0c56009412e9b900a14129b7f47"
     }
    },
    "7f4ee4eea73a46559f9eaf230a07e09f": {
     "model_module": "@jupyter-widgets/base",
     "model_name": "LayoutModel",
     "state": {
      "_model_module": "@jupyter-widgets/base",
      "_model_module_version": "1.2.0",
      "_model_name": "LayoutModel",
      "_view_count": null,
      "_view_module": "@jupyter-widgets/base",
      "_view_module_version": "1.2.0",
      "_view_name": "LayoutView",
      "align_content": null,
      "align_items": null,
      "align_self": null,
      "border": null,
      "bottom": null,
      "display": null,
      "flex": null,
      "flex_flow": null,
      "grid_area": null,
      "grid_auto_columns": null,
      "grid_auto_flow": null,
      "grid_auto_rows": null,
      "grid_column": null,
      "grid_gap": null,
      "grid_row": null,
      "grid_template_areas": null,
      "grid_template_columns": null,
      "grid_template_rows": null,
      "height": null,
      "justify_content": null,
      "justify_items": null,
      "left": null,
      "margin": null,
      "max_height": null,
      "max_width": null,
      "min_height": null,
      "min_width": null,
      "object_fit": null,
      "object_position": null,
      "order": null,
      "overflow": null,
      "overflow_x": null,
      "overflow_y": null,
      "padding": null,
      "right": null,
      "top": null,
      "visibility": null,
      "width": null
     }
    },
    "8dda841534f942678699b456f3e75990": {
     "model_module": "@jupyter-widgets/controls",
     "model_name": "DescriptionStyleModel",
     "state": {
      "_model_module": "@jupyter-widgets/controls",
      "_model_module_version": "1.5.0",
      "_model_name": "DescriptionStyleModel",
      "_view_count": null,
      "_view_module": "@jupyter-widgets/base",
      "_view_module_version": "1.2.0",
      "_view_name": "StyleView",
      "description_width": ""
     }
    },
    "9d26df74df7d49f4ad7ad67338e666a9": {
     "model_module": "@jupyter-widgets/base",
     "model_name": "LayoutModel",
     "state": {
      "_model_module": "@jupyter-widgets/base",
      "_model_module_version": "1.2.0",
      "_model_name": "LayoutModel",
      "_view_count": null,
      "_view_module": "@jupyter-widgets/base",
      "_view_module_version": "1.2.0",
      "_view_name": "LayoutView",
      "align_content": null,
      "align_items": null,
      "align_self": null,
      "border": null,
      "bottom": null,
      "display": null,
      "flex": null,
      "flex_flow": null,
      "grid_area": null,
      "grid_auto_columns": null,
      "grid_auto_flow": null,
      "grid_auto_rows": null,
      "grid_column": null,
      "grid_gap": null,
      "grid_row": null,
      "grid_template_areas": null,
      "grid_template_columns": null,
      "grid_template_rows": null,
      "height": null,
      "justify_content": null,
      "justify_items": null,
      "left": null,
      "margin": null,
      "max_height": null,
      "max_width": null,
      "min_height": null,
      "min_width": null,
      "object_fit": null,
      "object_position": null,
      "order": null,
      "overflow": null,
      "overflow_x": null,
      "overflow_y": null,
      "padding": null,
      "right": null,
      "top": null,
      "visibility": null,
      "width": null
     }
    },
    "ac727b28328d42608b92b78754b09b07": {
     "model_module": "@jupyter-widgets/base",
     "model_name": "LayoutModel",
     "state": {
      "_model_module": "@jupyter-widgets/base",
      "_model_module_version": "1.2.0",
      "_model_name": "LayoutModel",
      "_view_count": null,
      "_view_module": "@jupyter-widgets/base",
      "_view_module_version": "1.2.0",
      "_view_name": "LayoutView",
      "align_content": null,
      "align_items": null,
      "align_self": null,
      "border": null,
      "bottom": null,
      "display": null,
      "flex": null,
      "flex_flow": null,
      "grid_area": null,
      "grid_auto_columns": null,
      "grid_auto_flow": null,
      "grid_auto_rows": null,
      "grid_column": null,
      "grid_gap": null,
      "grid_row": null,
      "grid_template_areas": null,
      "grid_template_columns": null,
      "grid_template_rows": null,
      "height": null,
      "justify_content": null,
      "justify_items": null,
      "left": null,
      "margin": null,
      "max_height": null,
      "max_width": null,
      "min_height": null,
      "min_width": null,
      "object_fit": null,
      "object_position": null,
      "order": null,
      "overflow": null,
      "overflow_x": null,
      "overflow_y": null,
      "padding": null,
      "right": null,
      "top": null,
      "visibility": null,
      "width": null
     }
    },
    "c1fd288aa44641e09fd85668feda28e9": {
     "model_module": "@jupyter-widgets/controls",
     "model_name": "ProgressStyleModel",
     "state": {
      "_model_module": "@jupyter-widgets/controls",
      "_model_module_version": "1.5.0",
      "_model_name": "ProgressStyleModel",
      "_view_count": null,
      "_view_module": "@jupyter-widgets/base",
      "_view_module_version": "1.2.0",
      "_view_name": "StyleView",
      "bar_color": null,
      "description_width": "initial"
     }
    },
    "c71f43f93e0b42acba957c467566bb7b": {
     "model_module": "@jupyter-widgets/controls",
     "model_name": "HBoxModel",
     "state": {
      "_dom_classes": [],
      "_model_module": "@jupyter-widgets/controls",
      "_model_module_version": "1.5.0",
      "_model_name": "HBoxModel",
      "_view_count": null,
      "_view_module": "@jupyter-widgets/controls",
      "_view_module_version": "1.5.0",
      "_view_name": "HBoxView",
      "box_style": "",
      "children": [
       "IPY_MODEL_0b6ad2e105bb4c63a9b1aae3a695a274",
       "IPY_MODEL_30dafd20536945fd99c8f337902ea17f"
      ],
      "layout": "IPY_MODEL_0b0b25992de6445a988d8df9b285ae46"
     }
    },
    "e3056ccd69614913a96892452bda9f32": {
     "model_module": "@jupyter-widgets/controls",
     "model_name": "ProgressStyleModel",
     "state": {
      "_model_module": "@jupyter-widgets/controls",
      "_model_module_version": "1.5.0",
      "_model_name": "ProgressStyleModel",
      "_view_count": null,
      "_view_module": "@jupyter-widgets/base",
      "_view_module_version": "1.2.0",
      "_view_name": "StyleView",
      "bar_color": null,
      "description_width": "initial"
     }
    },
    "e747cbae31244a0bbc4bb221be668166": {
     "model_module": "@jupyter-widgets/controls",
     "model_name": "HBoxModel",
     "state": {
      "_dom_classes": [],
      "_model_module": "@jupyter-widgets/controls",
      "_model_module_version": "1.5.0",
      "_model_name": "HBoxModel",
      "_view_count": null,
      "_view_module": "@jupyter-widgets/controls",
      "_view_module_version": "1.5.0",
      "_view_name": "HBoxView",
      "box_style": "",
      "children": [
       "IPY_MODEL_412c770a208141d8bf8046308c1cff58",
       "IPY_MODEL_370688c75a934f23ace9f3a77c7a24f3"
      ],
      "layout": "IPY_MODEL_654a4cf1f4894eaba416bbeb7780fded"
     }
    },
    "e9f8f2186cac464fa478f13cc988d5cb": {
     "model_module": "@jupyter-widgets/base",
     "model_name": "LayoutModel",
     "state": {
      "_model_module": "@jupyter-widgets/base",
      "_model_module_version": "1.2.0",
      "_model_name": "LayoutModel",
      "_view_count": null,
      "_view_module": "@jupyter-widgets/base",
      "_view_module_version": "1.2.0",
      "_view_name": "LayoutView",
      "align_content": null,
      "align_items": null,
      "align_self": null,
      "border": null,
      "bottom": null,
      "display": null,
      "flex": null,
      "flex_flow": null,
      "grid_area": null,
      "grid_auto_columns": null,
      "grid_auto_flow": null,
      "grid_auto_rows": null,
      "grid_column": null,
      "grid_gap": null,
      "grid_row": null,
      "grid_template_areas": null,
      "grid_template_columns": null,
      "grid_template_rows": null,
      "height": null,
      "justify_content": null,
      "justify_items": null,
      "left": null,
      "margin": null,
      "max_height": null,
      "max_width": null,
      "min_height": null,
      "min_width": null,
      "object_fit": null,
      "object_position": null,
      "order": null,
      "overflow": null,
      "overflow_x": null,
      "overflow_y": null,
      "padding": null,
      "right": null,
      "top": null,
      "visibility": null,
      "width": null
     }
    }
   }
  }
 },
 "nbformat": 4,
 "nbformat_minor": 1
}
